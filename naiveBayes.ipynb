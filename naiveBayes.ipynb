{
 "cells": [
  {
   "cell_type": "code",
   "outputs": [],
   "source": [
    "import numpy as np\n",
    "import pandas as pd\n",
    "from sklearn.preprocessing import MinMaxScaler\n",
    "from sklearn.model_selection import train_test_split\n",
    "from sklearn.naive_bayes import GaussianNB\n",
    "from sklearn.metrics import accuracy_score, classification_report, confusion_matrix"
   ],
   "metadata": {
    "collapsed": false,
    "ExecuteTime": {
     "end_time": "2024-05-16T10:46:15.130893Z",
     "start_time": "2024-05-16T10:46:15.044732Z"
    }
   },
   "id": "483d2c43e5d4f046",
   "execution_count": 1
  },
  {
   "cell_type": "code",
   "outputs": [],
   "source": [
    "\n",
    "# Load the dataset\n",
    "data = pd.read_csv('./data/data-ready.csv')\n",
    "\n",
    "# Features and target\n",
    "features = data[['Temperature', 'Humidity', 'Wind Speed', 'general diffuse flows', 'diffuse flows', 'Year', 'IsWeekend', 'IsNight', 'HourCos', 'HourSin', 'MonthCos', 'MonthSin', 'DayCos', 'DaySin']]\n",
    "target = data['z1']\n",
    "\n",
    "# Normalize the features\n",
    "scaler = MinMaxScaler()\n",
    "features_scaled = scaler.fit_transform(features)\n",
    "\n",
    "# Bin the target variable (EnergyConsumption) into quartiles\n",
    "target_binned = pd.qcut(target, q=4, labels=False)"
   ],
   "metadata": {
    "collapsed": false,
    "ExecuteTime": {
     "end_time": "2024-05-16T10:46:28.270402Z",
     "start_time": "2024-05-16T10:46:28.051881Z"
    }
   },
   "id": "16503c61fc4b3452",
   "execution_count": 3
  },
  {
   "cell_type": "code",
   "outputs": [],
   "source": [
    "# Split the data into training and testing sets\n",
    "X_train, X_test, y_train, y_test = train_test_split(features_scaled, target_binned, test_size=0.2, random_state=42)\n",
    "\n",
    "# Define the Naive Bayes model\n",
    "nb_model = GaussianNB()\n",
    "\n",
    "# Train the model\n",
    "nb_model.fit(X_train, y_train)\n",
    "\n",
    "# Make predictions\n",
    "y_pred = nb_model.predict(X_test)"
   ],
   "metadata": {
    "collapsed": false,
    "ExecuteTime": {
     "end_time": "2024-05-16T10:46:36.180276Z",
     "start_time": "2024-05-16T10:46:36.123688Z"
    }
   },
   "id": "95676b2b1dad35cc",
   "execution_count": 4
  },
  {
   "cell_type": "code",
   "outputs": [
    {
     "name": "stdout",
     "output_type": "stream",
     "text": [
      "Accuracy: 0.6280045784051889\n",
      "Classification Report:\n",
      "              precision    recall  f1-score   support\n",
      "\n",
      "           0       0.69      0.94      0.79      2607\n",
      "           1       0.59      0.20      0.30      2630\n",
      "           2       0.54      0.61      0.57      2585\n",
      "           3       0.66      0.76      0.71      2662\n",
      "\n",
      "    accuracy                           0.63     10484\n",
      "   macro avg       0.62      0.63      0.59     10484\n",
      "weighted avg       0.62      0.63      0.59     10484\n",
      "\n",
      "Confusion Matrix:\n",
      "[[2439  148   16    4]\n",
      " [ 955  531  811  333]\n",
      " [  66  216 1579  724]\n",
      " [  75    9  543 2035]]\n"
     ]
    }
   ],
   "source": [
    "\n",
    "# Evaluate the model\n",
    "accuracy = accuracy_score(y_test, y_pred)\n",
    "print(f'Accuracy: {accuracy}')\n",
    "\n",
    "# Classification report\n",
    "report = classification_report(y_test, y_pred)\n",
    "print(f'Classification Report:\\n{report}')\n",
    "\n",
    "# Confusion matrix\n",
    "conf_matrix = confusion_matrix(y_test, y_pred)\n",
    "print(f'Confusion Matrix:\\n{conf_matrix}')\n"
   ],
   "metadata": {
    "collapsed": false,
    "ExecuteTime": {
     "end_time": "2024-05-16T10:46:40.663779Z",
     "start_time": "2024-05-16T10:46:40.632658Z"
    }
   },
   "id": "436c9a1106e54acf",
   "execution_count": 5
  }
 ],
 "metadata": {
  "kernelspec": {
   "display_name": "Python 3",
   "language": "python",
   "name": "python3"
  },
  "language_info": {
   "codemirror_mode": {
    "name": "ipython",
    "version": 2
   },
   "file_extension": ".py",
   "mimetype": "text/x-python",
   "name": "python",
   "nbconvert_exporter": "python",
   "pygments_lexer": "ipython2",
   "version": "2.7.6"
  }
 },
 "nbformat": 4,
 "nbformat_minor": 5
}
