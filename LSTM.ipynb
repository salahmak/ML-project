{
 "cells": [
  {
   "cell_type": "code",
   "execution_count": 1,
   "id": "6486ff43496b117c",
   "metadata": {
    "collapsed": false,
    "ExecuteTime": {
     "end_time": "2024-05-23T18:27:34.673731Z",
     "start_time": "2024-05-23T18:27:34.164873Z"
    }
   },
   "outputs": [],
   "source": [
    "import numpy as np\n",
    "import matplotlib.pyplot as plt\n",
    "import seaborn as sns\n",
    "import scipy.stats as stats\n",
    "import statsmodels.api as sm\n",
    "import statsmodels.formula.api as smf\n",
    "import statsmodels.stats.api as sms\n",
    "import pandas as pd"
   ]
  },
  {
   "cell_type": "code",
   "outputs": [
    {
     "name": "stderr",
     "output_type": "stream",
     "text": [
      "2024-05-23 19:27:35.334760: I external/local_tsl/tsl/cuda/cudart_stub.cc:32] Could not find cuda drivers on your machine, GPU will not be used.\n",
      "2024-05-23 19:27:35.441097: I external/local_tsl/tsl/cuda/cudart_stub.cc:32] Could not find cuda drivers on your machine, GPU will not be used.\n",
      "2024-05-23 19:27:35.947700: I tensorflow/core/platform/cpu_feature_guard.cc:210] This TensorFlow binary is optimized to use available CPU instructions in performance-critical operations.\n",
      "To enable the following instructions: AVX2 FMA, in other operations, rebuild TensorFlow with the appropriate compiler flags.\n",
      "2024-05-23 19:27:37.390885: W tensorflow/compiler/tf2tensorrt/utils/py_utils.cc:38] TF-TRT Warning: Could not find TensorRT\n"
     ]
    }
   ],
   "source": [
    "\n",
    "# import deep learning LSTM libraries\n",
    "from keras.models import Sequential\n",
    "from keras.layers import Dense\n",
    "from keras.layers import LSTM\n",
    "from sklearn.metrics import r2_score\n",
    "from keras.layers import Dropout\n",
    "from keras.layers import *\n",
    "from sklearn.preprocessing import MinMaxScaler\n",
    "from sklearn.metrics import mean_squared_error\n",
    "from sklearn.metrics import mean_absolute_error\n",
    "from sklearn.model_selection import train_test_split\n",
    "from keras.callbacks import EarlyStopping\n"
   ],
   "metadata": {
    "collapsed": true,
    "ExecuteTime": {
     "end_time": "2024-05-23T18:27:38.357176Z",
     "start_time": "2024-05-23T18:27:34.675141Z"
    }
   },
   "id": "initial_id",
   "execution_count": 2
  },
  {
   "cell_type": "code",
   "outputs": [
    {
     "data": {
      "text/plain": "   Temperature  Humidity  Wind Speed  general diffuse flows  diffuse flows  \\\n0        6.559      73.8       0.083                  0.051          0.119   \n1        6.414      74.5       0.083                  0.070          0.085   \n2        6.313      74.5       0.080                  0.062          0.100   \n3        6.121      75.0       0.083                  0.091          0.096   \n4        5.921      75.7       0.081                  0.048          0.085   \n\n            z1           z2           z3  Year  IsWeekend  IsNight  HourCos  \\\n0  34055.69620  16128.87538  20240.96386  2017          1        1      1.0   \n1  29814.68354  19375.07599  20131.08434  2017          1        1      1.0   \n2  29128.10127  19006.68693  19668.43373  2017          1        1      1.0   \n3  28228.86076  18361.09422  18899.27711  2017          1        1      1.0   \n4  27335.69620  17872.34043  18442.40964  2017          1        1      1.0   \n\n   HourSin  MonthCos  MonthSin   DayCos    DaySin  \n0      0.0  0.866025       0.5  0.97953  0.201299  \n1      0.0  0.866025       0.5  0.97953  0.201299  \n2      0.0  0.866025       0.5  0.97953  0.201299  \n3      0.0  0.866025       0.5  0.97953  0.201299  \n4      0.0  0.866025       0.5  0.97953  0.201299  ",
      "text/html": "<div>\n<style scoped>\n    .dataframe tbody tr th:only-of-type {\n        vertical-align: middle;\n    }\n\n    .dataframe tbody tr th {\n        vertical-align: top;\n    }\n\n    .dataframe thead th {\n        text-align: right;\n    }\n</style>\n<table border=\"1\" class=\"dataframe\">\n  <thead>\n    <tr style=\"text-align: right;\">\n      <th></th>\n      <th>Temperature</th>\n      <th>Humidity</th>\n      <th>Wind Speed</th>\n      <th>general diffuse flows</th>\n      <th>diffuse flows</th>\n      <th>z1</th>\n      <th>z2</th>\n      <th>z3</th>\n      <th>Year</th>\n      <th>IsWeekend</th>\n      <th>IsNight</th>\n      <th>HourCos</th>\n      <th>HourSin</th>\n      <th>MonthCos</th>\n      <th>MonthSin</th>\n      <th>DayCos</th>\n      <th>DaySin</th>\n    </tr>\n  </thead>\n  <tbody>\n    <tr>\n      <th>0</th>\n      <td>6.559</td>\n      <td>73.8</td>\n      <td>0.083</td>\n      <td>0.051</td>\n      <td>0.119</td>\n      <td>34055.69620</td>\n      <td>16128.87538</td>\n      <td>20240.96386</td>\n      <td>2017</td>\n      <td>1</td>\n      <td>1</td>\n      <td>1.0</td>\n      <td>0.0</td>\n      <td>0.866025</td>\n      <td>0.5</td>\n      <td>0.97953</td>\n      <td>0.201299</td>\n    </tr>\n    <tr>\n      <th>1</th>\n      <td>6.414</td>\n      <td>74.5</td>\n      <td>0.083</td>\n      <td>0.070</td>\n      <td>0.085</td>\n      <td>29814.68354</td>\n      <td>19375.07599</td>\n      <td>20131.08434</td>\n      <td>2017</td>\n      <td>1</td>\n      <td>1</td>\n      <td>1.0</td>\n      <td>0.0</td>\n      <td>0.866025</td>\n      <td>0.5</td>\n      <td>0.97953</td>\n      <td>0.201299</td>\n    </tr>\n    <tr>\n      <th>2</th>\n      <td>6.313</td>\n      <td>74.5</td>\n      <td>0.080</td>\n      <td>0.062</td>\n      <td>0.100</td>\n      <td>29128.10127</td>\n      <td>19006.68693</td>\n      <td>19668.43373</td>\n      <td>2017</td>\n      <td>1</td>\n      <td>1</td>\n      <td>1.0</td>\n      <td>0.0</td>\n      <td>0.866025</td>\n      <td>0.5</td>\n      <td>0.97953</td>\n      <td>0.201299</td>\n    </tr>\n    <tr>\n      <th>3</th>\n      <td>6.121</td>\n      <td>75.0</td>\n      <td>0.083</td>\n      <td>0.091</td>\n      <td>0.096</td>\n      <td>28228.86076</td>\n      <td>18361.09422</td>\n      <td>18899.27711</td>\n      <td>2017</td>\n      <td>1</td>\n      <td>1</td>\n      <td>1.0</td>\n      <td>0.0</td>\n      <td>0.866025</td>\n      <td>0.5</td>\n      <td>0.97953</td>\n      <td>0.201299</td>\n    </tr>\n    <tr>\n      <th>4</th>\n      <td>5.921</td>\n      <td>75.7</td>\n      <td>0.081</td>\n      <td>0.048</td>\n      <td>0.085</td>\n      <td>27335.69620</td>\n      <td>17872.34043</td>\n      <td>18442.40964</td>\n      <td>2017</td>\n      <td>1</td>\n      <td>1</td>\n      <td>1.0</td>\n      <td>0.0</td>\n      <td>0.866025</td>\n      <td>0.5</td>\n      <td>0.97953</td>\n      <td>0.201299</td>\n    </tr>\n  </tbody>\n</table>\n</div>"
     },
     "execution_count": 3,
     "metadata": {},
     "output_type": "execute_result"
    }
   ],
   "source": [
    "df = pd.read_csv('data/data-ready.csv')\n",
    "\n",
    "df = df.drop(\"DateTime\", axis = 1)\n",
    "\n",
    "df = df.drop([\"Month\", \"Day\", \"Hour\"], axis=1)\n",
    "\n",
    "df_z1 = df.drop([\"z2\", \"z3\"], axis=1)\n",
    "df_z2 = df.drop([\"z1\", \"z3\"], axis=1)\n",
    "df_z3 = df.drop([\"z1\", \"z2\"], axis=1)\n",
    "\n",
    "df_total = df.copy()\n",
    "df_total[\"z_total\"] = df_total[\"z1\"] + df_total[\"z2\"] + df_total[\"z3\"]\n",
    "\n",
    "# drop z1, z2, z3 from df_total\n",
    "df_total = df_total.drop([\"z1\", \"z2\", \"z3\"], axis=1)\n",
    "\n",
    "df.head()"
   ],
   "metadata": {
    "collapsed": false,
    "ExecuteTime": {
     "end_time": "2024-05-23T18:27:38.585758Z",
     "start_time": "2024-05-23T18:27:38.358386Z"
    }
   },
   "id": "3b4bc5314fb2fd4f",
   "execution_count": 3
  },
  {
   "cell_type": "code",
   "outputs": [],
   "source": [
    "zones = [df_z1, df_z2, df_z3, df_total]\n",
    "targets = [\"z1\", \"z2\", \"z3\", \"z_total\"]"
   ],
   "metadata": {
    "collapsed": false,
    "ExecuteTime": {
     "end_time": "2024-05-23T18:27:39.025893Z",
     "start_time": "2024-05-23T18:27:39.022336Z"
    }
   },
   "id": "963405b289f7b383",
   "execution_count": 4
  },
  {
   "cell_type": "code",
   "outputs": [],
   "source": [
    "# Reshape the data for the LSTM model\n",
    "def create_sequences(data, target, k):\n",
    "    X, y = [], []\n",
    "    for i in range(k, len(data)):\n",
    "        X.append(data[i-k:i])\n",
    "        y.append(target[i])\n",
    "    return np.array(X), np.array(y)"
   ],
   "metadata": {
    "collapsed": false,
    "ExecuteTime": {
     "end_time": "2024-05-23T18:27:40.853535Z",
     "start_time": "2024-05-23T18:27:40.849814Z"
    }
   },
   "id": "58f21df6dc71b807",
   "execution_count": 5
  },
  {
   "cell_type": "code",
   "outputs": [
    {
     "name": "stdout",
     "output_type": "stream",
     "text": [
      "==================== z1 ====================\n"
     ]
    },
    {
     "name": "stderr",
     "output_type": "stream",
     "text": [
      "/home/froggy/miniforge3/envs/DM_ENV/lib/python3.11/site-packages/keras/src/layers/rnn/rnn.py:204: UserWarning: Do not pass an `input_shape`/`input_dim` argument to a layer. When using Sequential models, prefer using an `Input(shape)` object as the first layer in the model instead.\n",
      "  super().__init__(**kwargs)\n"
     ]
    },
    {
     "name": "stdout",
     "output_type": "stream",
     "text": [
      "Epoch 1/20\n",
      "\u001B[1m1048/1048\u001B[0m \u001B[32m━━━━━━━━━━━━━━━━━━━━\u001B[0m\u001B[37m\u001B[0m \u001B[1m16s\u001B[0m 13ms/step - loss: 0.2462 - val_loss: 0.0821\n",
      "Epoch 2/20\n",
      "\u001B[1m1048/1048\u001B[0m \u001B[32m━━━━━━━━━━━━━━━━━━━━\u001B[0m\u001B[37m\u001B[0m \u001B[1m17s\u001B[0m 16ms/step - loss: 0.0929 - val_loss: 0.0789\n",
      "Epoch 3/20\n",
      "\u001B[1m1048/1048\u001B[0m \u001B[32m━━━━━━━━━━━━━━━━━━━━\u001B[0m\u001B[37m\u001B[0m \u001B[1m15s\u001B[0m 14ms/step - loss: 0.0811 - val_loss: 0.0643\n",
      "Epoch 4/20\n",
      "\u001B[1m1048/1048\u001B[0m \u001B[32m━━━━━━━━━━━━━━━━━━━━\u001B[0m\u001B[37m\u001B[0m \u001B[1m15s\u001B[0m 14ms/step - loss: 0.0702 - val_loss: 0.0616\n",
      "Epoch 5/20\n",
      "\u001B[1m1048/1048\u001B[0m \u001B[32m━━━━━━━━━━━━━━━━━━━━\u001B[0m\u001B[37m\u001B[0m \u001B[1m14s\u001B[0m 13ms/step - loss: 0.0656 - val_loss: 0.0554\n",
      "Epoch 6/20\n",
      "\u001B[1m1048/1048\u001B[0m \u001B[32m━━━━━━━━━━━━━━━━━━━━\u001B[0m\u001B[37m\u001B[0m \u001B[1m15s\u001B[0m 15ms/step - loss: 0.0604 - val_loss: 0.0516\n",
      "Epoch 7/20\n",
      "\u001B[1m1048/1048\u001B[0m \u001B[32m━━━━━━━━━━━━━━━━━━━━\u001B[0m\u001B[37m\u001B[0m \u001B[1m15s\u001B[0m 14ms/step - loss: 0.0549 - val_loss: 0.0458\n",
      "Epoch 8/20\n",
      "\u001B[1m1048/1048\u001B[0m \u001B[32m━━━━━━━━━━━━━━━━━━━━\u001B[0m\u001B[37m\u001B[0m \u001B[1m14s\u001B[0m 14ms/step - loss: 0.0500 - val_loss: 0.0430\n",
      "Epoch 9/20\n",
      "\u001B[1m1048/1048\u001B[0m \u001B[32m━━━━━━━━━━━━━━━━━━━━\u001B[0m\u001B[37m\u001B[0m \u001B[1m15s\u001B[0m 14ms/step - loss: 0.0486 - val_loss: 0.0422\n",
      "Epoch 10/20\n",
      "\u001B[1m1048/1048\u001B[0m \u001B[32m━━━━━━━━━━━━━━━━━━━━\u001B[0m\u001B[37m\u001B[0m \u001B[1m15s\u001B[0m 14ms/step - loss: 0.0452 - val_loss: 0.0390\n",
      "Epoch 11/20\n",
      "\u001B[1m1048/1048\u001B[0m \u001B[32m━━━━━━━━━━━━━━━━━━━━\u001B[0m\u001B[37m\u001B[0m \u001B[1m15s\u001B[0m 14ms/step - loss: 0.0429 - val_loss: 0.0466\n",
      "Epoch 12/20\n",
      "\u001B[1m1048/1048\u001B[0m \u001B[32m━━━━━━━━━━━━━━━━━━━━\u001B[0m\u001B[37m\u001B[0m \u001B[1m14s\u001B[0m 13ms/step - loss: 0.0423 - val_loss: 0.0391\n",
      "Epoch 13/20\n",
      "\u001B[1m1048/1048\u001B[0m \u001B[32m━━━━━━━━━━━━━━━━━━━━\u001B[0m\u001B[37m\u001B[0m \u001B[1m14s\u001B[0m 13ms/step - loss: 0.0393 - val_loss: 0.0332\n",
      "Epoch 14/20\n",
      "\u001B[1m1048/1048\u001B[0m \u001B[32m━━━━━━━━━━━━━━━━━━━━\u001B[0m\u001B[37m\u001B[0m \u001B[1m14s\u001B[0m 13ms/step - loss: 0.0389 - val_loss: 0.0335\n",
      "Epoch 15/20\n",
      "\u001B[1m1048/1048\u001B[0m \u001B[32m━━━━━━━━━━━━━━━━━━━━\u001B[0m\u001B[37m\u001B[0m \u001B[1m15s\u001B[0m 15ms/step - loss: 0.0378 - val_loss: 0.0299\n",
      "Epoch 16/20\n",
      "\u001B[1m1048/1048\u001B[0m \u001B[32m━━━━━━━━━━━━━━━━━━━━\u001B[0m\u001B[37m\u001B[0m \u001B[1m16s\u001B[0m 15ms/step - loss: 0.0372 - val_loss: 0.0342\n",
      "Epoch 17/20\n",
      "\u001B[1m1048/1048\u001B[0m \u001B[32m━━━━━━━━━━━━━━━━━━━━\u001B[0m\u001B[37m\u001B[0m \u001B[1m14s\u001B[0m 13ms/step - loss: 0.0359 - val_loss: 0.0298\n",
      "Epoch 18/20\n",
      "\u001B[1m1048/1048\u001B[0m \u001B[32m━━━━━━━━━━━━━━━━━━━━\u001B[0m\u001B[37m\u001B[0m \u001B[1m15s\u001B[0m 14ms/step - loss: 0.0365 - val_loss: 0.0271\n",
      "Epoch 19/20\n",
      "\u001B[1m1048/1048\u001B[0m \u001B[32m━━━━━━━━━━━━━━━━━━━━\u001B[0m\u001B[37m\u001B[0m \u001B[1m20s\u001B[0m 19ms/step - loss: 0.0338 - val_loss: 0.0292\n",
      "Epoch 20/20\n",
      "\u001B[1m1048/1048\u001B[0m \u001B[32m━━━━━━━━━━━━━━━━━━━━\u001B[0m\u001B[37m\u001B[0m \u001B[1m16s\u001B[0m 15ms/step - loss: 0.0319 - val_loss: 0.0296\n",
      "\u001B[1m328/328\u001B[0m \u001B[32m━━━━━━━━━━━━━━━━━━━━\u001B[0m\u001B[37m\u001B[0m \u001B[1m2s\u001B[0m 5ms/step\n",
      "Mean Squared Error for z1: 1471604.6707248108\n",
      "Mean Absolute Error for z1: 898.0757802336219\n",
      "R² Score for z1: 0.9711768988905254\n",
      "==================== z2 ====================\n",
      "Epoch 1/20\n"
     ]
    },
    {
     "name": "stderr",
     "output_type": "stream",
     "text": [
      "/home/froggy/miniforge3/envs/DM_ENV/lib/python3.11/site-packages/keras/src/layers/rnn/rnn.py:204: UserWarning: Do not pass an `input_shape`/`input_dim` argument to a layer. When using Sequential models, prefer using an `Input(shape)` object as the first layer in the model instead.\n",
      "  super().__init__(**kwargs)\n"
     ]
    },
    {
     "name": "stdout",
     "output_type": "stream",
     "text": [
      "\u001B[1m1048/1048\u001B[0m \u001B[32m━━━━━━━━━━━━━━━━━━━━\u001B[0m\u001B[37m\u001B[0m \u001B[1m22s\u001B[0m 19ms/step - loss: 0.3014 - val_loss: 0.1084\n",
      "Epoch 2/20\n",
      "\u001B[1m1048/1048\u001B[0m \u001B[32m━━━━━━━━━━━━━━━━━━━━\u001B[0m\u001B[37m\u001B[0m \u001B[1m17s\u001B[0m 16ms/step - loss: 0.1144 - val_loss: 0.0808\n",
      "Epoch 3/20\n",
      "\u001B[1m1048/1048\u001B[0m \u001B[32m━━━━━━━━━━━━━━━━━━━━\u001B[0m\u001B[37m\u001B[0m \u001B[1m19s\u001B[0m 18ms/step - loss: 0.0932 - val_loss: 0.0687\n",
      "Epoch 4/20\n",
      "\u001B[1m1048/1048\u001B[0m \u001B[32m━━━━━━━━━━━━━━━━━━━━\u001B[0m\u001B[37m\u001B[0m \u001B[1m17s\u001B[0m 16ms/step - loss: 0.0807 - val_loss: 0.0608\n",
      "Epoch 5/20\n",
      "\u001B[1m1048/1048\u001B[0m \u001B[32m━━━━━━━━━━━━━━━━━━━━\u001B[0m\u001B[37m\u001B[0m \u001B[1m17s\u001B[0m 16ms/step - loss: 0.0714 - val_loss: 0.0625\n",
      "Epoch 6/20\n",
      "\u001B[1m1048/1048\u001B[0m \u001B[32m━━━━━━━━━━━━━━━━━━━━\u001B[0m\u001B[37m\u001B[0m \u001B[1m16s\u001B[0m 15ms/step - loss: 0.0649 - val_loss: 0.0506\n",
      "Epoch 7/20\n",
      "\u001B[1m1048/1048\u001B[0m \u001B[32m━━━━━━━━━━━━━━━━━━━━\u001B[0m\u001B[37m\u001B[0m \u001B[1m15s\u001B[0m 14ms/step - loss: 0.0617 - val_loss: 0.0487\n",
      "Epoch 8/20\n",
      "\u001B[1m1048/1048\u001B[0m \u001B[32m━━━━━━━━━━━━━━━━━━━━\u001B[0m\u001B[37m\u001B[0m \u001B[1m17s\u001B[0m 16ms/step - loss: 0.0570 - val_loss: 0.0480\n",
      "Epoch 9/20\n",
      "\u001B[1m1048/1048\u001B[0m \u001B[32m━━━━━━━━━━━━━━━━━━━━\u001B[0m\u001B[37m\u001B[0m \u001B[1m17s\u001B[0m 17ms/step - loss: 0.0559 - val_loss: 0.0465\n",
      "Epoch 10/20\n",
      "\u001B[1m1048/1048\u001B[0m \u001B[32m━━━━━━━━━━━━━━━━━━━━\u001B[0m\u001B[37m\u001B[0m \u001B[1m15s\u001B[0m 14ms/step - loss: 0.0524 - val_loss: 0.0529\n",
      "Epoch 11/20\n",
      "\u001B[1m1048/1048\u001B[0m \u001B[32m━━━━━━━━━━━━━━━━━━━━\u001B[0m\u001B[37m\u001B[0m \u001B[1m15s\u001B[0m 14ms/step - loss: 0.0504 - val_loss: 0.0444\n",
      "Epoch 12/20\n",
      "\u001B[1m1048/1048\u001B[0m \u001B[32m━━━━━━━━━━━━━━━━━━━━\u001B[0m\u001B[37m\u001B[0m \u001B[1m15s\u001B[0m 15ms/step - loss: 0.0466 - val_loss: 0.0379\n",
      "Epoch 13/20\n",
      "\u001B[1m1048/1048\u001B[0m \u001B[32m━━━━━━━━━━━━━━━━━━━━\u001B[0m\u001B[37m\u001B[0m \u001B[1m16s\u001B[0m 15ms/step - loss: 0.0447 - val_loss: 0.0428\n",
      "Epoch 14/20\n",
      "\u001B[1m1048/1048\u001B[0m \u001B[32m━━━━━━━━━━━━━━━━━━━━\u001B[0m\u001B[37m\u001B[0m \u001B[1m16s\u001B[0m 15ms/step - loss: 0.0472 - val_loss: 0.0380\n",
      "Epoch 15/20\n",
      "\u001B[1m1048/1048\u001B[0m \u001B[32m━━━━━━━━━━━━━━━━━━━━\u001B[0m\u001B[37m\u001B[0m \u001B[1m17s\u001B[0m 16ms/step - loss: 0.0423 - val_loss: 0.0354\n",
      "Epoch 16/20\n",
      "\u001B[1m1048/1048\u001B[0m \u001B[32m━━━━━━━━━━━━━━━━━━━━\u001B[0m\u001B[37m\u001B[0m \u001B[1m15s\u001B[0m 15ms/step - loss: 0.0404 - val_loss: 0.0350\n",
      "Epoch 17/20\n",
      "\u001B[1m1048/1048\u001B[0m \u001B[32m━━━━━━━━━━━━━━━━━━━━\u001B[0m\u001B[37m\u001B[0m \u001B[1m15s\u001B[0m 15ms/step - loss: 0.0406 - val_loss: 0.0336\n",
      "Epoch 18/20\n",
      "\u001B[1m1048/1048\u001B[0m \u001B[32m━━━━━━━━━━━━━━━━━━━━\u001B[0m\u001B[37m\u001B[0m \u001B[1m16s\u001B[0m 16ms/step - loss: 0.0401 - val_loss: 0.0314\n",
      "Epoch 19/20\n",
      "\u001B[1m1048/1048\u001B[0m \u001B[32m━━━━━━━━━━━━━━━━━━━━\u001B[0m\u001B[37m\u001B[0m \u001B[1m17s\u001B[0m 16ms/step - loss: 0.0368 - val_loss: 0.0339\n",
      "Epoch 20/20\n",
      "\u001B[1m1048/1048\u001B[0m \u001B[32m━━━━━━━━━━━━━━━━━━━━\u001B[0m\u001B[37m\u001B[0m \u001B[1m16s\u001B[0m 15ms/step - loss: 0.0370 - val_loss: 0.0289\n",
      "\u001B[1m328/328\u001B[0m \u001B[32m━━━━━━━━━━━━━━━━━━━━\u001B[0m\u001B[37m\u001B[0m \u001B[1m2s\u001B[0m 5ms/step\n",
      "Mean Squared Error for z2: 786216.9622104678\n",
      "Mean Absolute Error for z2: 668.1813426111212\n",
      "R² Score for z2: 0.9710087460177713\n",
      "==================== z3 ====================\n",
      "Epoch 1/20\n"
     ]
    },
    {
     "name": "stderr",
     "output_type": "stream",
     "text": [
      "/home/froggy/miniforge3/envs/DM_ENV/lib/python3.11/site-packages/keras/src/layers/rnn/rnn.py:204: UserWarning: Do not pass an `input_shape`/`input_dim` argument to a layer. When using Sequential models, prefer using an `Input(shape)` object as the first layer in the model instead.\n",
      "  super().__init__(**kwargs)\n"
     ]
    },
    {
     "name": "stdout",
     "output_type": "stream",
     "text": [
      "\u001B[1m1048/1048\u001B[0m \u001B[32m━━━━━━━━━━━━━━━━━━━━\u001B[0m\u001B[37m\u001B[0m \u001B[1m20s\u001B[0m 16ms/step - loss: 0.2558 - val_loss: 0.0725\n",
      "Epoch 2/20\n",
      "\u001B[1m1048/1048\u001B[0m \u001B[32m━━━━━━━━━━━━━━━━━━━━\u001B[0m\u001B[37m\u001B[0m \u001B[1m18s\u001B[0m 17ms/step - loss: 0.0691 - val_loss: 0.0383\n",
      "Epoch 3/20\n",
      "\u001B[1m1048/1048\u001B[0m \u001B[32m━━━━━━━━━━━━━━━━━━━━\u001B[0m\u001B[37m\u001B[0m \u001B[1m17s\u001B[0m 16ms/step - loss: 0.0493 - val_loss: 0.0301\n",
      "Epoch 4/20\n",
      "\u001B[1m1048/1048\u001B[0m \u001B[32m━━━━━━━━━━━━━━━━━━━━\u001B[0m\u001B[37m\u001B[0m \u001B[1m17s\u001B[0m 17ms/step - loss: 0.0408 - val_loss: 0.0268\n",
      "Epoch 5/20\n",
      "\u001B[1m1048/1048\u001B[0m \u001B[32m━━━━━━━━━━━━━━━━━━━━\u001B[0m\u001B[37m\u001B[0m \u001B[1m18s\u001B[0m 17ms/step - loss: 0.0373 - val_loss: 0.0277\n",
      "Epoch 6/20\n",
      "\u001B[1m1048/1048\u001B[0m \u001B[32m━━━━━━━━━━━━━━━━━━━━\u001B[0m\u001B[37m\u001B[0m \u001B[1m18s\u001B[0m 17ms/step - loss: 0.0352 - val_loss: 0.0368\n",
      "Epoch 7/20\n",
      "\u001B[1m1048/1048\u001B[0m \u001B[32m━━━━━━━━━━━━━━━━━━━━\u001B[0m\u001B[37m\u001B[0m \u001B[1m17s\u001B[0m 16ms/step - loss: 0.0336 - val_loss: 0.0232\n",
      "Epoch 8/20\n",
      "\u001B[1m1048/1048\u001B[0m \u001B[32m━━━━━━━━━━━━━━━━━━━━\u001B[0m\u001B[37m\u001B[0m \u001B[1m17s\u001B[0m 16ms/step - loss: 0.0295 - val_loss: 0.0190\n",
      "Epoch 9/20\n",
      "\u001B[1m1048/1048\u001B[0m \u001B[32m━━━━━━━━━━━━━━━━━━━━\u001B[0m\u001B[37m\u001B[0m \u001B[1m15s\u001B[0m 14ms/step - loss: 0.0274 - val_loss: 0.0177\n",
      "Epoch 10/20\n",
      "\u001B[1m1048/1048\u001B[0m \u001B[32m━━━━━━━━━━━━━━━━━━━━\u001B[0m\u001B[37m\u001B[0m \u001B[1m15s\u001B[0m 15ms/step - loss: 0.0291 - val_loss: 0.0296\n",
      "Epoch 11/20\n",
      "\u001B[1m1048/1048\u001B[0m \u001B[32m━━━━━━━━━━━━━━━━━━━━\u001B[0m\u001B[37m\u001B[0m \u001B[1m17s\u001B[0m 16ms/step - loss: 0.0259 - val_loss: 0.0171\n",
      "Epoch 12/20\n",
      "\u001B[1m1048/1048\u001B[0m \u001B[32m━━━━━━━━━━━━━━━━━━━━\u001B[0m\u001B[37m\u001B[0m \u001B[1m15s\u001B[0m 15ms/step - loss: 0.0234 - val_loss: 0.0158\n",
      "Epoch 13/20\n",
      "\u001B[1m1048/1048\u001B[0m \u001B[32m━━━━━━━━━━━━━━━━━━━━\u001B[0m\u001B[37m\u001B[0m \u001B[1m15s\u001B[0m 14ms/step - loss: 0.0279 - val_loss: 0.0145\n",
      "Epoch 14/20\n",
      "\u001B[1m1048/1048\u001B[0m \u001B[32m━━━━━━━━━━━━━━━━━━━━\u001B[0m\u001B[37m\u001B[0m \u001B[1m17s\u001B[0m 16ms/step - loss: 0.0223 - val_loss: 0.0134\n",
      "Epoch 15/20\n",
      "\u001B[1m1048/1048\u001B[0m \u001B[32m━━━━━━━━━━━━━━━━━━━━\u001B[0m\u001B[37m\u001B[0m \u001B[1m18s\u001B[0m 17ms/step - loss: 0.0214 - val_loss: 0.0128\n",
      "Epoch 16/20\n",
      "\u001B[1m1048/1048\u001B[0m \u001B[32m━━━━━━━━━━━━━━━━━━━━\u001B[0m\u001B[37m\u001B[0m \u001B[1m18s\u001B[0m 17ms/step - loss: 0.0275 - val_loss: 0.0143\n",
      "Epoch 17/20\n",
      "\u001B[1m1048/1048\u001B[0m \u001B[32m━━━━━━━━━━━━━━━━━━━━\u001B[0m\u001B[37m\u001B[0m \u001B[1m18s\u001B[0m 17ms/step - loss: 0.0204 - val_loss: 0.0122\n",
      "Epoch 18/20\n",
      "\u001B[1m1048/1048\u001B[0m \u001B[32m━━━━━━━━━━━━━━━━━━━━\u001B[0m\u001B[37m\u001B[0m \u001B[1m18s\u001B[0m 17ms/step - loss: 0.0202 - val_loss: 0.0129\n",
      "Epoch 19/20\n",
      "\u001B[1m1048/1048\u001B[0m \u001B[32m━━━━━━━━━━━━━━━━━━━━\u001B[0m\u001B[37m\u001B[0m \u001B[1m18s\u001B[0m 17ms/step - loss: 0.0197 - val_loss: 0.0153\n",
      "Epoch 20/20\n",
      "\u001B[1m1048/1048\u001B[0m \u001B[32m━━━━━━━━━━━━━━━━━━━━\u001B[0m\u001B[37m\u001B[0m \u001B[1m18s\u001B[0m 17ms/step - loss: 0.0196 - val_loss: 0.0129\n",
      "\u001B[1m328/328\u001B[0m \u001B[32m━━━━━━━━━━━━━━━━━━━━\u001B[0m\u001B[37m\u001B[0m \u001B[1m3s\u001B[0m 7ms/step\n",
      "Mean Squared Error for z3: 570897.6252803722\n",
      "Mean Absolute Error for z3: 545.4531881162563\n",
      "R² Score for z3: 0.9869973315603859\n",
      "==================== z_total ====================\n",
      "Epoch 1/20\n"
     ]
    },
    {
     "name": "stderr",
     "output_type": "stream",
     "text": [
      "/home/froggy/miniforge3/envs/DM_ENV/lib/python3.11/site-packages/keras/src/layers/rnn/rnn.py:204: UserWarning: Do not pass an `input_shape`/`input_dim` argument to a layer. When using Sequential models, prefer using an `Input(shape)` object as the first layer in the model instead.\n",
      "  super().__init__(**kwargs)\n"
     ]
    },
    {
     "name": "stdout",
     "output_type": "stream",
     "text": [
      "\u001B[1m1048/1048\u001B[0m \u001B[32m━━━━━━━━━━━━━━━━━━━━\u001B[0m\u001B[37m\u001B[0m \u001B[1m20s\u001B[0m 16ms/step - loss: 0.2028 - val_loss: 0.0740\n",
      "Epoch 2/20\n",
      "\u001B[1m1048/1048\u001B[0m \u001B[32m━━━━━━━━━━━━━━━━━━━━\u001B[0m\u001B[37m\u001B[0m \u001B[1m20s\u001B[0m 19ms/step - loss: 0.0727 - val_loss: 0.0574\n",
      "Epoch 3/20\n",
      "\u001B[1m1048/1048\u001B[0m \u001B[32m━━━━━━━━━━━━━━━━━━━━\u001B[0m\u001B[37m\u001B[0m \u001B[1m21s\u001B[0m 20ms/step - loss: 0.0607 - val_loss: 0.0409\n",
      "Epoch 4/20\n",
      "\u001B[1m1048/1048\u001B[0m \u001B[32m━━━━━━━━━━━━━━━━━━━━\u001B[0m\u001B[37m\u001B[0m \u001B[1m16s\u001B[0m 15ms/step - loss: 0.0502 - val_loss: 0.0384\n",
      "Epoch 5/20\n",
      "\u001B[1m1048/1048\u001B[0m \u001B[32m━━━━━━━━━━━━━━━━━━━━\u001B[0m\u001B[37m\u001B[0m \u001B[1m17s\u001B[0m 16ms/step - loss: 0.0455 - val_loss: 0.0345\n",
      "Epoch 6/20\n",
      "\u001B[1m1048/1048\u001B[0m \u001B[32m━━━━━━━━━━━━━━━━━━━━\u001B[0m\u001B[37m\u001B[0m \u001B[1m18s\u001B[0m 17ms/step - loss: 0.0407 - val_loss: 0.0277\n",
      "Epoch 7/20\n",
      "\u001B[1m1048/1048\u001B[0m \u001B[32m━━━━━━━━━━━━━━━━━━━━\u001B[0m\u001B[37m\u001B[0m \u001B[1m19s\u001B[0m 18ms/step - loss: 0.0379 - val_loss: 0.0270\n",
      "Epoch 8/20\n",
      "\u001B[1m1048/1048\u001B[0m \u001B[32m━━━━━━━━━━━━━━━━━━━━\u001B[0m\u001B[37m\u001B[0m \u001B[1m19s\u001B[0m 18ms/step - loss: 0.0351 - val_loss: 0.0266\n",
      "Epoch 9/20\n",
      "\u001B[1m1048/1048\u001B[0m \u001B[32m━━━━━━━━━━━━━━━━━━━━\u001B[0m\u001B[37m\u001B[0m \u001B[1m18s\u001B[0m 17ms/step - loss: 0.0346 - val_loss: 0.0227\n",
      "Epoch 10/20\n",
      "\u001B[1m1048/1048\u001B[0m \u001B[32m━━━━━━━━━━━━━━━━━━━━\u001B[0m\u001B[37m\u001B[0m \u001B[1m17s\u001B[0m 16ms/step - loss: 0.0317 - val_loss: 0.0217\n",
      "Epoch 11/20\n",
      "\u001B[1m1048/1048\u001B[0m \u001B[32m━━━━━━━━━━━━━━━━━━━━\u001B[0m\u001B[37m\u001B[0m \u001B[1m17s\u001B[0m 16ms/step - loss: 0.0301 - val_loss: 0.0220\n",
      "Epoch 12/20\n",
      "\u001B[1m1048/1048\u001B[0m \u001B[32m━━━━━━━━━━━━━━━━━━━━\u001B[0m\u001B[37m\u001B[0m \u001B[1m17s\u001B[0m 16ms/step - loss: 0.0281 - val_loss: 0.0207\n",
      "Epoch 13/20\n",
      "\u001B[1m1048/1048\u001B[0m \u001B[32m━━━━━━━━━━━━━━━━━━━━\u001B[0m\u001B[37m\u001B[0m \u001B[1m17s\u001B[0m 16ms/step - loss: 0.0261 - val_loss: 0.0184\n",
      "Epoch 14/20\n",
      "\u001B[1m1048/1048\u001B[0m \u001B[32m━━━━━━━━━━━━━━━━━━━━\u001B[0m\u001B[37m\u001B[0m \u001B[1m17s\u001B[0m 16ms/step - loss: 0.0242 - val_loss: 0.0163\n",
      "Epoch 15/20\n",
      "\u001B[1m1048/1048\u001B[0m \u001B[32m━━━━━━━━━━━━━━━━━━━━\u001B[0m\u001B[37m\u001B[0m \u001B[1m19s\u001B[0m 18ms/step - loss: 0.0250 - val_loss: 0.0182\n",
      "Epoch 16/20\n",
      "\u001B[1m1048/1048\u001B[0m \u001B[32m━━━━━━━━━━━━━━━━━━━━\u001B[0m\u001B[37m\u001B[0m \u001B[1m17s\u001B[0m 17ms/step - loss: 0.0262 - val_loss: 0.0148\n",
      "Epoch 17/20\n",
      "\u001B[1m1048/1048\u001B[0m \u001B[32m━━━━━━━━━━━━━━━━━━━━\u001B[0m\u001B[37m\u001B[0m \u001B[1m17s\u001B[0m 16ms/step - loss: 0.0223 - val_loss: 0.0171\n",
      "Epoch 18/20\n",
      "\u001B[1m1048/1048\u001B[0m \u001B[32m━━━━━━━━━━━━━━━━━━━━\u001B[0m\u001B[37m\u001B[0m \u001B[1m17s\u001B[0m 16ms/step - loss: 0.0228 - val_loss: 0.0158\n",
      "Epoch 19/20\n",
      "\u001B[1m1048/1048\u001B[0m \u001B[32m━━━━━━━━━━━━━━━━━━━━\u001B[0m\u001B[37m\u001B[0m \u001B[1m17s\u001B[0m 16ms/step - loss: 0.0234 - val_loss: 0.0133\n",
      "Epoch 20/20\n",
      "\u001B[1m1048/1048\u001B[0m \u001B[32m━━━━━━━━━━━━━━━━━━━━\u001B[0m\u001B[37m\u001B[0m \u001B[1m17s\u001B[0m 16ms/step - loss: 0.0210 - val_loss: 0.0185\n",
      "\u001B[1m328/328\u001B[0m \u001B[32m━━━━━━━━━━━━━━━━━━━━\u001B[0m\u001B[37m\u001B[0m \u001B[1m2s\u001B[0m 6ms/step\n",
      "Mean Squared Error for z_total: 5377112.815944724\n",
      "Mean Absolute Error for z_total: 1754.0194714201018\n",
      "R² Score for z_total: 0.9817868285471971\n"
     ]
    }
   ],
   "source": [
    "from sklearn.preprocessing import StandardScaler\n",
    "\n",
    "time_steps = 24\n",
    "\n",
    "zone = df_z1\n",
    "target = \"z1\"\n",
    "\n",
    "# for each zone, train LSTM model\n",
    "for zone, target in zip(zones, targets):\n",
    "    print(f\"==================== {target} ====================\")\n",
    "\n",
    "    X = zone.drop(target, axis=1)\n",
    "    y = zone[target]\n",
    "\n",
    "\n",
    "    # Feature Scaling\n",
    "    sc = MinMaxScaler()\n",
    "    X_scaled = sc.fit_transform(X)\n",
    "\n",
    "    # Standardize the target\n",
    "    sc_y = StandardScaler()\n",
    "    y = y.values.reshape(-1, 1)\n",
    "    y_scaled = sc_y.fit_transform(y)\n",
    "\n",
    "\n",
    "    X_seq, y_seq = create_sequences(X_scaled, y_scaled, time_steps)\n",
    "\n",
    "    # Splitting the dataset into the Training set and Test set\n",
    "    X_train, X_test, y_train, y_test = train_test_split(X_seq, y_seq, test_size=0.2, random_state=42)\n",
    "\n",
    "\n",
    "    # Initialising the RNN\n",
    "    model = Sequential()\n",
    "\n",
    "    model.add(LSTM(50, return_sequences=True, input_shape=(X_train.shape[1], X_train.shape[2])))\n",
    "    model.add(Dropout(0.2))\n",
    "\n",
    "    model.add(LSTM(50, return_sequences=False))\n",
    "    model.add(Dropout(0.2))\n",
    "\n",
    "    model.add(Dense(1))\n",
    "\n",
    "    # Compiling the RNN\n",
    "    model.compile(optimizer = 'adam', loss = 'mean_squared_error')\n",
    "\n",
    "    # Fitting the RNN to the Training set\n",
    "    model.fit(X_train, y_train, epochs = 20, batch_size = 32, validation_split=0.2)\n",
    "\n",
    "\n",
    "    y_pred = model.predict(X_test)\n",
    "\n",
    "\n",
    "    # Inverse transform predictions and actual values if you want to interpret in original scale\n",
    "    y_pred_inv = sc_y.inverse_transform(y_pred)\n",
    "    y_test_inv = sc_y.inverse_transform(y_test.reshape(-1, 1))\n",
    "\n",
    "    # Calculate some performance metrics\n",
    "    mse = mean_squared_error(y_test_inv, y_pred_inv)\n",
    "    mae = mean_absolute_error(y_test_inv, y_pred_inv)\n",
    "    r2 = r2_score(y_test_inv, y_pred_inv)\n",
    "    \n",
    "    print(f'Mean Squared Error for {target}: {mse}')\n",
    "    print(f'Mean Absolute Error for {target}: {mae}')\n",
    "    print(f'R² Score for {target}: {r2}')\n"
   ],
   "metadata": {
    "collapsed": false,
    "ExecuteTime": {
     "end_time": "2024-05-23T18:50:13.598794Z",
     "start_time": "2024-05-23T18:27:47.243008Z"
    }
   },
   "id": "39e9ff8e6f1a9c9a",
   "execution_count": 6
  }
 ],
 "metadata": {
  "kernelspec": {
   "display_name": "Python 3",
   "language": "python",
   "name": "python3"
  },
  "language_info": {
   "codemirror_mode": {
    "name": "ipython",
    "version": 2
   },
   "file_extension": ".py",
   "mimetype": "text/x-python",
   "name": "python",
   "nbconvert_exporter": "python",
   "pygments_lexer": "ipython2",
   "version": "2.7.6"
  }
 },
 "nbformat": 4,
 "nbformat_minor": 5
}
