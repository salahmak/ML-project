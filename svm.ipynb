{
 "cells": [
  {
   "cell_type": "code",
   "execution_count": 1,
   "metadata": {},
   "outputs": [],
   "source": [
    "import pandas as pd\n",
    "import numpy as np\n",
    "import matplotlib.pyplot as plt\n",
    "import seaborn as sns\n",
    "from sklearn.model_selection import train_test_split\n",
    "from sklearn.model_selection import GridSearchCV\n",
    "\n",
    "from sklearn.svm import SVR\n",
    "from sklearn.metrics import r2_score"
   ]
  },
  {
   "cell_type": "code",
   "execution_count": 2,
   "metadata": {},
   "outputs": [],
   "source": [
    "df = pd.read_csv('data/data-ready.csv')\n",
    "\n",
    "targets = [\"z1\", \"z2\", \"z3\"]\n",
    "\n",
    "df.drop(\"DateTime\", inplace=True, axis=1)\n",
    "\n",
    "# split train and test\n",
    "X = df.drop(columns=targets, axis=1)\n",
    "y1 = df['z1']\n",
    "X1_train, X1_test, y1_train, y1_test = train_test_split(X, y1, test_size=0.2, random_state=42)\n",
    "\n",
    "y2 = df['z2']\n",
    "X2_train, X2_test, y2_train, y2_test = train_test_split(X, y2, test_size=0.2, random_state=42)\n",
    "\n",
    "y3 = df['z3']\n",
    "X3_train, X3_test, y3_train, y3_test = train_test_split(X, y3, test_size=0.2, random_state=42)"
   ]
  },
  {
   "cell_type": "code",
   "execution_count": 3,
   "metadata": {},
   "outputs": [],
   "source": [
    "X_train = [X1_train, X2_train, X3_train]\n",
    "X_test = [X1_test, X2_test, X3_test]\n",
    "y_train = [y1_train, y2_train, y3_train]\n",
    "y_test = [y1_test, y2_test, y3_test]"
   ]
  },
  {
   "cell_type": "markdown",
   "metadata": {},
   "source": [
    "### Testing Base SVM Model"
   ]
  },
  {
   "cell_type": "code",
   "execution_count": 8,
   "metadata": {},
   "outputs": [
    {
     "name": "stdout",
     "output_type": "stream",
     "text": [
      "------ zone 0: r2 score: 0.01392089827143772\n",
      "------ zone 1: r2 score: 0.006481702611940587\n",
      "------ zone 2: r2 score: -0.05310327894715505\n"
     ]
    }
   ],
   "source": [
    "models = []\n",
    "predictions = []\n",
    "for i in range(3):\n",
    "    model = SVR()\n",
    "    model.fit(X_train[i], y_train[i])\n",
    "\n",
    "    prediction = model.predict(X_test[i])\n",
    "    score = r2_score(y_test[i], prediction)\n",
    "\n",
    "    print(f\"------ zone {i}: r2 score: {score}\")\n",
    "\n",
    "    models.append(model)\n",
    "    predictions.append(prediction)"
   ]
  },
  {
   "cell_type": "code",
   "execution_count": 4,
   "metadata": {},
   "outputs": [
    {
     "name": "stdout",
     "output_type": "stream",
     "text": [
      "------ total: r2 score: -0.006123817807192733\n"
     ]
    }
   ],
   "source": [
    "df[\"total\"] = df[\"z1\"] + df[\"z2\"] + df[\"z3\"]\n",
    "\n",
    "targetT = df[\"total\"]\n",
    "XT = df.drop(columns=[\"z1\", \"z2\", \"z3\", \"total\"], axis=1)\n",
    "\n",
    "\n",
    "XT_train, XT_test, yT_train, yT_test = train_test_split(XT, targetT, test_size=0.2, random_state=42)\n",
    "\n",
    "model = SVR()\n",
    "model.fit(XT_train, yT_train)\n",
    "\n",
    "prediction = model.predict(XT_test)\n",
    "score = r2_score(yT_test, prediction)\n",
    "\n",
    "print(f\"------ total: r2 score: {score}\")"
   ]
  },
  {
   "cell_type": "code",
   "execution_count": 10,
   "metadata": {},
   "outputs": [],
   "source": [
    "from sklearn.model_selection import GridSearchCV"
   ]
  },
  {
   "cell_type": "code",
   "execution_count": 11,
   "metadata": {},
   "outputs": [
    {
     "data": {
      "text/plain": [
       "' model = SVR()\\nclf = GridSearchCV(model, param_grid=search)\\nclf.fit(XT_train, yT_train)\\nclf.best_params_ '"
      ]
     },
     "execution_count": 11,
     "metadata": {},
     "output_type": "execute_result"
    }
   ],
   "source": [
    "search = [{\n",
    "    'kernel': ('linear', 'poly', 'rbf', \n",
    "               'sigmoid'),\n",
    "    'degree': [2, 3, 4],\n",
    "    'C': [1, 10],\n",
    "}]\n",
    "\"\"\" model = SVR()\n",
    "clf = GridSearchCV(model, param_grid=search)\n",
    "clf.fit(XT_train, yT_train)\n",
    "clf.best_params_ \"\"\"\n"
   ]
  },
  {
   "cell_type": "code",
   "execution_count": 7,
   "metadata": {},
   "outputs": [
    {
     "name": "stdout",
     "output_type": "stream",
     "text": [
      "------ total: r2 score: 0.6756429969649131\n"
     ]
    }
   ],
   "source": [
    "model = SVR(kernel='linear', C=1)\n",
    "model.fit(XT_train, yT_train)\n",
    "\n",
    "prediction = model.predict(XT_test)\n",
    "score = r2_score(yT_test, prediction)\n",
    "\n",
    "print(f\"------ total: r2 score: {score}\")"
   ]
  },
  {
   "cell_type": "code",
   "execution_count": 5,
   "metadata": {},
   "outputs": [
    {
     "name": "stdout",
     "output_type": "stream",
     "text": [
      "------ total: r2 score: -0.0038710296791468757\n"
     ]
    }
   ],
   "source": [
    "model = SVR(kernel='poly', C=1, degree=3)\n",
    "model.fit(XT_train, yT_train)\n",
    "\n",
    "prediction = model.predict(XT_test)\n",
    "score = r2_score(yT_test, prediction)\n",
    "\n",
    "print(f\"------ total: r2 score: {score}\")"
   ]
  },
  {
   "cell_type": "code",
   "execution_count": 6,
   "metadata": {},
   "outputs": [
    {
     "name": "stdout",
     "output_type": "stream",
     "text": [
      "------ total: r2 score: -0.004621565929048943\n"
     ]
    }
   ],
   "source": [
    "model = SVR(kernel='poly', C=10, degree=2)\n",
    "model.fit(XT_train, yT_train)\n",
    "\n",
    "prediction = model.predict(XT_test)\n",
    "score = r2_score(yT_test, prediction)\n",
    "\n",
    "print(f\"------ total: r2 score: {score}\")"
   ]
  },
  {
   "cell_type": "code",
   "execution_count": 8,
   "metadata": {},
   "outputs": [
    {
     "name": "stdout",
     "output_type": "stream",
     "text": [
      "------ total: r2 score: -0.004696756452044815\n"
     ]
    }
   ],
   "source": [
    "model = SVR(kernel='sigmoid', C=10, degree=2)\n",
    "model.fit(XT_train, yT_train)\n",
    "\n",
    "prediction = model.predict(XT_test)\n",
    "score = r2_score(yT_test, prediction)\n",
    "\n",
    "print(f\"------ total: r2 score: {score}\")"
   ]
  },
  {
   "cell_type": "code",
   "execution_count": 9,
   "metadata": {},
   "outputs": [
    {
     "name": "stdout",
     "output_type": "stream",
     "text": [
      "------ total: r2 score: 0.7050011615918124\n"
     ]
    }
   ],
   "source": [
    "model = SVR(kernel='linear', C=20)\n",
    "model.fit(XT_train, yT_train)\n",
    "\n",
    "prediction = model.predict(XT_test)\n",
    "score = r2_score(yT_test, prediction)\n",
    "\n",
    "print(f\"------ total: r2 score: {score}\")"
   ]
  },
  {
   "cell_type": "code",
   "execution_count": 10,
   "metadata": {},
   "outputs": [
    {
     "name": "stdout",
     "output_type": "stream",
     "text": [
      "------ total: r2 score: 0.699936813151984\n"
     ]
    }
   ],
   "source": [
    "model = SVR(kernel='linear', C=5)\n",
    "model.fit(XT_train, yT_train)\n",
    "\n",
    "prediction = model.predict(XT_test)\n",
    "score = r2_score(yT_test, prediction)\n",
    "\n",
    "print(f\"------ total: r2 score: {score}\")"
   ]
  },
  {
   "cell_type": "markdown",
   "metadata": {},
   "source": [
    "### Trying PCA"
   ]
  },
  {
   "cell_type": "code",
   "execution_count": 11,
   "metadata": {},
   "outputs": [],
   "source": [
    "from sklearn.decomposition import PCA"
   ]
  },
  {
   "cell_type": "code",
   "execution_count": 12,
   "metadata": {},
   "outputs": [
    {
     "name": "stdout",
     "output_type": "stream",
     "text": [
      "------ total: r2 score: -0.02877189851316575\n"
     ]
    }
   ],
   "source": [
    "XT_pca = PCA(n_components=0.98).fit_transform(XT)\n",
    "\n",
    "\n",
    "XT_train, XT_test, yT_train, yT_test = train_test_split(XT_pca, targetT, test_size=0.2, random_state=42)\n",
    "\n",
    "model = SVR(kernel='linear', C=5)\n",
    "model.fit(XT_train, yT_train)\n",
    "\n",
    "prediction = model.predict(XT_test)\n",
    "score = r2_score(yT_test, prediction)\n",
    "\n",
    "print(f\"------ total: r2 score: {score}\")"
   ]
  }
 ],
 "metadata": {
  "kernelspec": {
   "display_name": "DM_ENV",
   "language": "python",
   "name": "python3"
  },
  "language_info": {
   "codemirror_mode": {
    "name": "ipython",
    "version": 3
   },
   "file_extension": ".py",
   "mimetype": "text/x-python",
   "name": "python",
   "nbconvert_exporter": "python",
   "pygments_lexer": "ipython3",
   "version": "3.11.5"
  }
 },
 "nbformat": 4,
 "nbformat_minor": 2
}
