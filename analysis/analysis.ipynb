{
 "cells": [
  {
   "cell_type": "code",
   "execution_count": 1,
   "id": "initial_id",
   "metadata": {
    "collapsed": true,
    "ExecuteTime": {
     "end_time": "2024-05-24T17:55:32.097713Z",
     "start_time": "2024-05-24T17:55:32.095267Z"
    }
   },
   "outputs": [],
   "source": [
    "import pandas as pd\n",
    "import numpy as np\n",
    "import matplotlib.pyplot as plt\n",
    "import seaborn as sns\n",
    "  "
   ]
  },
  {
   "cell_type": "code",
   "execution_count": 2,
   "id": "4ffc9bd291d2fc20",
   "metadata": {
    "collapsed": false,
    "ExecuteTime": {
     "end_time": "2024-05-24T17:55:32.209321Z",
     "start_time": "2024-05-24T17:55:32.098614Z"
    }
   },
   "outputs": [
    {
     "data": {
      "text/plain": "        DateTime  Temperature  Humidity  Wind Speed  general diffuse flows  \\\n0  1/1/2017 0:00        6.559      73.8       0.083                  0.051   \n1  1/1/2017 0:10        6.414      74.5       0.083                  0.070   \n2  1/1/2017 0:20        6.313      74.5       0.080                  0.062   \n3  1/1/2017 0:30        6.121      75.0       0.083                  0.091   \n4  1/1/2017 0:40        5.921      75.7       0.081                  0.048   \n\n   diffuse flows  Zone 1 Power Consumption  Zone 2  Power Consumption  \\\n0          0.119               34055.69620                16128.87538   \n1          0.085               29814.68354                19375.07599   \n2          0.100               29128.10127                19006.68693   \n3          0.096               28228.86076                18361.09422   \n4          0.085               27335.69620                17872.34043   \n\n   Zone 3  Power Consumption  \n0                20240.96386  \n1                20131.08434  \n2                19668.43373  \n3                18899.27711  \n4                18442.40964  ",
      "text/html": "<div>\n<style scoped>\n    .dataframe tbody tr th:only-of-type {\n        vertical-align: middle;\n    }\n\n    .dataframe tbody tr th {\n        vertical-align: top;\n    }\n\n    .dataframe thead th {\n        text-align: right;\n    }\n</style>\n<table border=\"1\" class=\"dataframe\">\n  <thead>\n    <tr style=\"text-align: right;\">\n      <th></th>\n      <th>DateTime</th>\n      <th>Temperature</th>\n      <th>Humidity</th>\n      <th>Wind Speed</th>\n      <th>general diffuse flows</th>\n      <th>diffuse flows</th>\n      <th>Zone 1 Power Consumption</th>\n      <th>Zone 2  Power Consumption</th>\n      <th>Zone 3  Power Consumption</th>\n    </tr>\n  </thead>\n  <tbody>\n    <tr>\n      <th>0</th>\n      <td>1/1/2017 0:00</td>\n      <td>6.559</td>\n      <td>73.8</td>\n      <td>0.083</td>\n      <td>0.051</td>\n      <td>0.119</td>\n      <td>34055.69620</td>\n      <td>16128.87538</td>\n      <td>20240.96386</td>\n    </tr>\n    <tr>\n      <th>1</th>\n      <td>1/1/2017 0:10</td>\n      <td>6.414</td>\n      <td>74.5</td>\n      <td>0.083</td>\n      <td>0.070</td>\n      <td>0.085</td>\n      <td>29814.68354</td>\n      <td>19375.07599</td>\n      <td>20131.08434</td>\n    </tr>\n    <tr>\n      <th>2</th>\n      <td>1/1/2017 0:20</td>\n      <td>6.313</td>\n      <td>74.5</td>\n      <td>0.080</td>\n      <td>0.062</td>\n      <td>0.100</td>\n      <td>29128.10127</td>\n      <td>19006.68693</td>\n      <td>19668.43373</td>\n    </tr>\n    <tr>\n      <th>3</th>\n      <td>1/1/2017 0:30</td>\n      <td>6.121</td>\n      <td>75.0</td>\n      <td>0.083</td>\n      <td>0.091</td>\n      <td>0.096</td>\n      <td>28228.86076</td>\n      <td>18361.09422</td>\n      <td>18899.27711</td>\n    </tr>\n    <tr>\n      <th>4</th>\n      <td>1/1/2017 0:40</td>\n      <td>5.921</td>\n      <td>75.7</td>\n      <td>0.081</td>\n      <td>0.048</td>\n      <td>0.085</td>\n      <td>27335.69620</td>\n      <td>17872.34043</td>\n      <td>18442.40964</td>\n    </tr>\n  </tbody>\n</table>\n</div>"
     },
     "execution_count": 2,
     "metadata": {},
     "output_type": "execute_result"
    }
   ],
   "source": [
    "df = pd.read_csv('../data/data.csv')\n",
    "\n",
    "df.head()"
   ]
  },
  {
   "cell_type": "markdown",
   "id": "8453bbc82626ae21",
   "metadata": {
    "collapsed": false
   },
   "source": [
    "# Exploratory Data Analysis and Pre-Processing\n",
    "\n",
    "- check statistics of each feature\n",
    "- check for missing values and duplicates\n",
    "- check correlation (heatmaps, scatter plots...) between columns (to find redundant and irrelevant features\n",
    "- check for outliers and handle them\n",
    "- data normalization (minMax or ZScore)\n"
   ]
  },
  {
   "cell_type": "code",
   "execution_count": 3,
   "id": "67db623fa19ed87f",
   "metadata": {
    "collapsed": false,
    "ExecuteTime": {
     "end_time": "2024-05-24T17:55:32.245703Z",
     "start_time": "2024-05-24T17:55:32.210373Z"
    }
   },
   "outputs": [
    {
     "name": "stdout",
     "output_type": "stream",
     "text": [
      "Number of duplicates:  0\n",
      "DateTime                     0\n",
      "Temperature                  0\n",
      "Humidity                     0\n",
      "Wind Speed                   0\n",
      "general diffuse flows        0\n",
      "diffuse flows                0\n",
      "Zone 1 Power Consumption     0\n",
      "Zone 2  Power Consumption    0\n",
      "Zone 3  Power Consumption    0\n",
      "dtype: int64\n"
     ]
    }
   ],
   "source": [
    "# check if there are duplicates or null values\n",
    "print(\"Number of duplicates: \", df.duplicated().sum())\n",
    "print(df.isnull().sum())"
   ]
  },
  {
   "cell_type": "markdown",
   "id": "b59801f27a3049e",
   "metadata": {
    "collapsed": false
   },
   "source": [
    "# Feature Engineering and Selection\n",
    "- try to come up with new features (for example from the time column)\n",
    "- remove irrelevant features with forward and backward selection (optional, as we need to train a model to achieve it)"
   ]
  },
  {
   "cell_type": "markdown",
   "id": "f0af627190970b83",
   "metadata": {
    "collapsed": false
   },
   "source": [
    "## Extracting features from DateTIme"
   ]
  },
  {
   "cell_type": "code",
   "execution_count": 4,
   "id": "ca7236687b38f4cc",
   "metadata": {
    "collapsed": false,
    "ExecuteTime": {
     "end_time": "2024-05-24T17:55:32.436324Z",
     "start_time": "2024-05-24T17:55:32.248740Z"
    }
   },
   "outputs": [
    {
     "data": {
      "text/plain": "             DateTime  Temperature  Humidity  Wind Speed  \\\n0 2017-01-01 00:00:00        6.559      73.8       0.083   \n1 2017-01-01 00:10:00        6.414      74.5       0.083   \n2 2017-01-01 00:20:00        6.313      74.5       0.080   \n3 2017-01-01 00:30:00        6.121      75.0       0.083   \n4 2017-01-01 00:40:00        5.921      75.7       0.081   \n\n   general diffuse flows  diffuse flows  Zone 1 Power Consumption  \\\n0                  0.051          0.119               34055.69620   \n1                  0.070          0.085               29814.68354   \n2                  0.062          0.100               29128.10127   \n3                  0.091          0.096               28228.86076   \n4                  0.048          0.085               27335.69620   \n\n   Zone 2  Power Consumption  Zone 3  Power Consumption  Year  IsWeekend  \\\n0                16128.87538                20240.96386  2017          1   \n1                19375.07599                20131.08434  2017          1   \n2                19006.68693                19668.43373  2017          1   \n3                18361.09422                18899.27711  2017          1   \n4                17872.34043                18442.40964  2017          1   \n\n   IsNight  HourCos  HourSin  MonthCos  MonthSin   DayCos    DaySin  \n0        1      1.0      0.0  0.866025       0.5  0.97953  0.201299  \n1        1      1.0      0.0  0.866025       0.5  0.97953  0.201299  \n2        1      1.0      0.0  0.866025       0.5  0.97953  0.201299  \n3        1      1.0      0.0  0.866025       0.5  0.97953  0.201299  \n4        1      1.0      0.0  0.866025       0.5  0.97953  0.201299  ",
      "text/html": "<div>\n<style scoped>\n    .dataframe tbody tr th:only-of-type {\n        vertical-align: middle;\n    }\n\n    .dataframe tbody tr th {\n        vertical-align: top;\n    }\n\n    .dataframe thead th {\n        text-align: right;\n    }\n</style>\n<table border=\"1\" class=\"dataframe\">\n  <thead>\n    <tr style=\"text-align: right;\">\n      <th></th>\n      <th>DateTime</th>\n      <th>Temperature</th>\n      <th>Humidity</th>\n      <th>Wind Speed</th>\n      <th>general diffuse flows</th>\n      <th>diffuse flows</th>\n      <th>Zone 1 Power Consumption</th>\n      <th>Zone 2  Power Consumption</th>\n      <th>Zone 3  Power Consumption</th>\n      <th>Year</th>\n      <th>IsWeekend</th>\n      <th>IsNight</th>\n      <th>HourCos</th>\n      <th>HourSin</th>\n      <th>MonthCos</th>\n      <th>MonthSin</th>\n      <th>DayCos</th>\n      <th>DaySin</th>\n    </tr>\n  </thead>\n  <tbody>\n    <tr>\n      <th>0</th>\n      <td>2017-01-01 00:00:00</td>\n      <td>6.559</td>\n      <td>73.8</td>\n      <td>0.083</td>\n      <td>0.051</td>\n      <td>0.119</td>\n      <td>34055.69620</td>\n      <td>16128.87538</td>\n      <td>20240.96386</td>\n      <td>2017</td>\n      <td>1</td>\n      <td>1</td>\n      <td>1.0</td>\n      <td>0.0</td>\n      <td>0.866025</td>\n      <td>0.5</td>\n      <td>0.97953</td>\n      <td>0.201299</td>\n    </tr>\n    <tr>\n      <th>1</th>\n      <td>2017-01-01 00:10:00</td>\n      <td>6.414</td>\n      <td>74.5</td>\n      <td>0.083</td>\n      <td>0.070</td>\n      <td>0.085</td>\n      <td>29814.68354</td>\n      <td>19375.07599</td>\n      <td>20131.08434</td>\n      <td>2017</td>\n      <td>1</td>\n      <td>1</td>\n      <td>1.0</td>\n      <td>0.0</td>\n      <td>0.866025</td>\n      <td>0.5</td>\n      <td>0.97953</td>\n      <td>0.201299</td>\n    </tr>\n    <tr>\n      <th>2</th>\n      <td>2017-01-01 00:20:00</td>\n      <td>6.313</td>\n      <td>74.5</td>\n      <td>0.080</td>\n      <td>0.062</td>\n      <td>0.100</td>\n      <td>29128.10127</td>\n      <td>19006.68693</td>\n      <td>19668.43373</td>\n      <td>2017</td>\n      <td>1</td>\n      <td>1</td>\n      <td>1.0</td>\n      <td>0.0</td>\n      <td>0.866025</td>\n      <td>0.5</td>\n      <td>0.97953</td>\n      <td>0.201299</td>\n    </tr>\n    <tr>\n      <th>3</th>\n      <td>2017-01-01 00:30:00</td>\n      <td>6.121</td>\n      <td>75.0</td>\n      <td>0.083</td>\n      <td>0.091</td>\n      <td>0.096</td>\n      <td>28228.86076</td>\n      <td>18361.09422</td>\n      <td>18899.27711</td>\n      <td>2017</td>\n      <td>1</td>\n      <td>1</td>\n      <td>1.0</td>\n      <td>0.0</td>\n      <td>0.866025</td>\n      <td>0.5</td>\n      <td>0.97953</td>\n      <td>0.201299</td>\n    </tr>\n    <tr>\n      <th>4</th>\n      <td>2017-01-01 00:40:00</td>\n      <td>5.921</td>\n      <td>75.7</td>\n      <td>0.081</td>\n      <td>0.048</td>\n      <td>0.085</td>\n      <td>27335.69620</td>\n      <td>17872.34043</td>\n      <td>18442.40964</td>\n      <td>2017</td>\n      <td>1</td>\n      <td>1</td>\n      <td>1.0</td>\n      <td>0.0</td>\n      <td>0.866025</td>\n      <td>0.5</td>\n      <td>0.97953</td>\n      <td>0.201299</td>\n    </tr>\n  </tbody>\n</table>\n</div>"
     },
     "execution_count": 4,
     "metadata": {},
     "output_type": "execute_result"
    }
   ],
   "source": [
    "df[\"DateTime\"] = pd.to_datetime(df[\"DateTime\"])\n",
    "df[\"Year\"] = df[\"DateTime\"].dt.year\n",
    "df[\"Month\"] = df[\"DateTime\"].dt.month\n",
    "df[\"Day\"] = df[\"DateTime\"].dt.day\n",
    "df[\"Hour\"] = df[\"DateTime\"].dt.hour\n",
    "# is weekend (weekend is saturay and sunday)\n",
    "df[\"IsWeekend\"] = df[\"DateTime\"].dt.weekday.isin([5,6]).astype(int)\n",
    "# is night (from 20:00 to 06:00) make sure to include both range from 20 to 23 and 0 to 6\n",
    "df[\"IsNight\"] = df[\"DateTime\"].dt.hour.isin(range(20,24)).astype(int)\n",
    "df[\"IsNight\"] = df[\"IsNight\"] | df[\"DateTime\"].dt.hour.isin(range(0,7)).astype(int)\n",
    "\n",
    "# apply cosine and sine transformation to the hour, month and day\n",
    "df[\"HourCos\"] = np.cos(2 * np.pi * df[\"Hour\"] / 24)\n",
    "df[\"HourSin\"] = np.sin(2 * np.pi * df[\"Hour\"] / 24)\n",
    "df[\"MonthCos\"] = np.cos(2 * np.pi * df[\"Month\"] / 12)\n",
    "df[\"MonthSin\"] = np.sin(2 * np.pi * df[\"Month\"] / 12)\n",
    "df[\"DayCos\"] = np.cos(2 * np.pi * df[\"Day\"] / 31)\n",
    "df[\"DaySin\"] = np.sin(2 * np.pi * df[\"Day\"] / 31)\n",
    "\n",
    "df.drop(columns=[\"Day\", \"Month\", \"Hour\"], inplace=True)\n",
    "\n",
    "df.head()"
   ]
  },
  {
   "cell_type": "code",
   "execution_count": 5,
   "id": "495429d719518fa7",
   "metadata": {
    "collapsed": false,
    "ExecuteTime": {
     "end_time": "2024-05-24T17:55:32.533235Z",
     "start_time": "2024-05-24T17:55:32.437924Z"
    }
   },
   "outputs": [
    {
     "data": {
      "text/plain": "                  DateTime   Temperature      Humidity    Wind Speed  \\\ncount                52416  52416.000000  52416.000000  52416.000000   \nmean   2017-07-01 23:55:00     18.810024     68.259518      1.959489   \nmin    2017-01-01 00:00:00      3.247000     11.340000      0.050000   \n25%    2017-04-01 23:57:30     14.410000     58.310000      0.078000   \n50%    2017-07-01 23:55:00     18.780000     69.860000      0.086000   \n75%    2017-09-30 23:52:30     22.890000     81.400000      4.915000   \nmax    2017-12-30 23:50:00     40.010000     94.800000      6.483000   \nstd                    NaN      5.815476     15.551177      2.348862   \n\n       general diffuse flows  diffuse flows  Zone 1 Power Consumption  \\\ncount           52416.000000   52416.000000              52416.000000   \nmean              182.696614      75.028022              32344.970564   \nmin                 0.004000       0.011000              13895.696200   \n25%                 0.062000       0.122000              26310.668692   \n50%                 5.035500       4.456000              32265.920340   \n75%               319.600000     101.000000              37309.018185   \nmax              1163.000000     936.000000              52204.395120   \nstd               264.400960     124.210949               7130.562564   \n\n       Zone 2  Power Consumption  Zone 3  Power Consumption     Year  \\\ncount               52416.000000               52416.000000  52416.0   \nmean                21042.509082               17835.406218   2017.0   \nmin                  8560.081466                5935.174070   2017.0   \n25%                 16980.766032               13129.326630   2017.0   \n50%                 20823.168405               16415.117470   2017.0   \n75%                 24713.717520               21624.100420   2017.0   \nmax                 37408.860760               47598.326360   2017.0   \nstd                  5201.465892                6622.165099      0.0   \n\n          IsWeekend       IsNight       HourCos       HourSin      MonthCos  \\\ncount  52416.000000  52416.000000  5.241600e+04  5.241600e+04  5.241600e+04   \nmean       0.285714      0.458333 -6.601692e-17 -2.290936e-17 -5.126443e-03   \nmin        0.000000      0.000000 -1.000000e+00 -1.000000e+00 -1.000000e+00   \n25%        0.000000      0.000000 -7.071068e-01 -7.071068e-01 -8.660254e-01   \n50%        0.000000      0.000000 -6.123234e-17  6.123234e-17 -1.836970e-16   \n75%        1.000000      1.000000  7.071068e-01  7.071068e-01  5.915064e-01   \nmax        1.000000      1.000000  1.000000e+00  1.000000e+00  1.000000e+00   \nstd        0.451758      0.498266  7.071135e-01  7.071135e-01  7.075804e-01   \n\n           MonthSin        DayCos        DaySin  \ncount  5.241600e+04  52416.000000  5.241600e+04  \nmean  -5.395884e-03     -0.021699  1.636413e-03  \nmin   -1.000000e+00     -0.994869 -9.987165e-01  \n25%   -8.660254e-01     -0.758758 -7.247928e-01  \n50%   -2.449294e-16     -0.050649 -2.449294e-16  \n75%    5.000000e-01      0.688967  7.247928e-01  \nmax    1.000000e+00      1.000000  9.987165e-01  \nstd    7.066071e-01      0.699348  7.144631e-01  ",
      "text/html": "<div>\n<style scoped>\n    .dataframe tbody tr th:only-of-type {\n        vertical-align: middle;\n    }\n\n    .dataframe tbody tr th {\n        vertical-align: top;\n    }\n\n    .dataframe thead th {\n        text-align: right;\n    }\n</style>\n<table border=\"1\" class=\"dataframe\">\n  <thead>\n    <tr style=\"text-align: right;\">\n      <th></th>\n      <th>DateTime</th>\n      <th>Temperature</th>\n      <th>Humidity</th>\n      <th>Wind Speed</th>\n      <th>general diffuse flows</th>\n      <th>diffuse flows</th>\n      <th>Zone 1 Power Consumption</th>\n      <th>Zone 2  Power Consumption</th>\n      <th>Zone 3  Power Consumption</th>\n      <th>Year</th>\n      <th>IsWeekend</th>\n      <th>IsNight</th>\n      <th>HourCos</th>\n      <th>HourSin</th>\n      <th>MonthCos</th>\n      <th>MonthSin</th>\n      <th>DayCos</th>\n      <th>DaySin</th>\n    </tr>\n  </thead>\n  <tbody>\n    <tr>\n      <th>count</th>\n      <td>52416</td>\n      <td>52416.000000</td>\n      <td>52416.000000</td>\n      <td>52416.000000</td>\n      <td>52416.000000</td>\n      <td>52416.000000</td>\n      <td>52416.000000</td>\n      <td>52416.000000</td>\n      <td>52416.000000</td>\n      <td>52416.0</td>\n      <td>52416.000000</td>\n      <td>52416.000000</td>\n      <td>5.241600e+04</td>\n      <td>5.241600e+04</td>\n      <td>5.241600e+04</td>\n      <td>5.241600e+04</td>\n      <td>52416.000000</td>\n      <td>5.241600e+04</td>\n    </tr>\n    <tr>\n      <th>mean</th>\n      <td>2017-07-01 23:55:00</td>\n      <td>18.810024</td>\n      <td>68.259518</td>\n      <td>1.959489</td>\n      <td>182.696614</td>\n      <td>75.028022</td>\n      <td>32344.970564</td>\n      <td>21042.509082</td>\n      <td>17835.406218</td>\n      <td>2017.0</td>\n      <td>0.285714</td>\n      <td>0.458333</td>\n      <td>-6.601692e-17</td>\n      <td>-2.290936e-17</td>\n      <td>-5.126443e-03</td>\n      <td>-5.395884e-03</td>\n      <td>-0.021699</td>\n      <td>1.636413e-03</td>\n    </tr>\n    <tr>\n      <th>min</th>\n      <td>2017-01-01 00:00:00</td>\n      <td>3.247000</td>\n      <td>11.340000</td>\n      <td>0.050000</td>\n      <td>0.004000</td>\n      <td>0.011000</td>\n      <td>13895.696200</td>\n      <td>8560.081466</td>\n      <td>5935.174070</td>\n      <td>2017.0</td>\n      <td>0.000000</td>\n      <td>0.000000</td>\n      <td>-1.000000e+00</td>\n      <td>-1.000000e+00</td>\n      <td>-1.000000e+00</td>\n      <td>-1.000000e+00</td>\n      <td>-0.994869</td>\n      <td>-9.987165e-01</td>\n    </tr>\n    <tr>\n      <th>25%</th>\n      <td>2017-04-01 23:57:30</td>\n      <td>14.410000</td>\n      <td>58.310000</td>\n      <td>0.078000</td>\n      <td>0.062000</td>\n      <td>0.122000</td>\n      <td>26310.668692</td>\n      <td>16980.766032</td>\n      <td>13129.326630</td>\n      <td>2017.0</td>\n      <td>0.000000</td>\n      <td>0.000000</td>\n      <td>-7.071068e-01</td>\n      <td>-7.071068e-01</td>\n      <td>-8.660254e-01</td>\n      <td>-8.660254e-01</td>\n      <td>-0.758758</td>\n      <td>-7.247928e-01</td>\n    </tr>\n    <tr>\n      <th>50%</th>\n      <td>2017-07-01 23:55:00</td>\n      <td>18.780000</td>\n      <td>69.860000</td>\n      <td>0.086000</td>\n      <td>5.035500</td>\n      <td>4.456000</td>\n      <td>32265.920340</td>\n      <td>20823.168405</td>\n      <td>16415.117470</td>\n      <td>2017.0</td>\n      <td>0.000000</td>\n      <td>0.000000</td>\n      <td>-6.123234e-17</td>\n      <td>6.123234e-17</td>\n      <td>-1.836970e-16</td>\n      <td>-2.449294e-16</td>\n      <td>-0.050649</td>\n      <td>-2.449294e-16</td>\n    </tr>\n    <tr>\n      <th>75%</th>\n      <td>2017-09-30 23:52:30</td>\n      <td>22.890000</td>\n      <td>81.400000</td>\n      <td>4.915000</td>\n      <td>319.600000</td>\n      <td>101.000000</td>\n      <td>37309.018185</td>\n      <td>24713.717520</td>\n      <td>21624.100420</td>\n      <td>2017.0</td>\n      <td>1.000000</td>\n      <td>1.000000</td>\n      <td>7.071068e-01</td>\n      <td>7.071068e-01</td>\n      <td>5.915064e-01</td>\n      <td>5.000000e-01</td>\n      <td>0.688967</td>\n      <td>7.247928e-01</td>\n    </tr>\n    <tr>\n      <th>max</th>\n      <td>2017-12-30 23:50:00</td>\n      <td>40.010000</td>\n      <td>94.800000</td>\n      <td>6.483000</td>\n      <td>1163.000000</td>\n      <td>936.000000</td>\n      <td>52204.395120</td>\n      <td>37408.860760</td>\n      <td>47598.326360</td>\n      <td>2017.0</td>\n      <td>1.000000</td>\n      <td>1.000000</td>\n      <td>1.000000e+00</td>\n      <td>1.000000e+00</td>\n      <td>1.000000e+00</td>\n      <td>1.000000e+00</td>\n      <td>1.000000</td>\n      <td>9.987165e-01</td>\n    </tr>\n    <tr>\n      <th>std</th>\n      <td>NaN</td>\n      <td>5.815476</td>\n      <td>15.551177</td>\n      <td>2.348862</td>\n      <td>264.400960</td>\n      <td>124.210949</td>\n      <td>7130.562564</td>\n      <td>5201.465892</td>\n      <td>6622.165099</td>\n      <td>0.0</td>\n      <td>0.451758</td>\n      <td>0.498266</td>\n      <td>7.071135e-01</td>\n      <td>7.071135e-01</td>\n      <td>7.075804e-01</td>\n      <td>7.066071e-01</td>\n      <td>0.699348</td>\n      <td>7.144631e-01</td>\n    </tr>\n  </tbody>\n</table>\n</div>"
     },
     "execution_count": 5,
     "metadata": {},
     "output_type": "execute_result"
    }
   ],
   "source": [
    "df.describe()"
   ]
  },
  {
   "cell_type": "markdown",
   "id": "f8a571d928cc2ef7",
   "metadata": {
    "collapsed": false
   },
   "source": [
    "# Export resulting data after all transformations and pre-processing"
   ]
  },
  {
   "cell_type": "code",
   "execution_count": 6,
   "id": "ec281ba21110156a",
   "metadata": {
    "collapsed": false,
    "ExecuteTime": {
     "end_time": "2024-05-24T17:55:41.780042Z",
     "start_time": "2024-05-24T17:55:40.990199Z"
    }
   },
   "outputs": [],
   "source": [
    "# renaming target columns to make them easy to work with in the modeling phase\n",
    "df.rename(columns={\n",
    "    \"Zone 1 Power Consumption\": \"z1\",\n",
    "    \"Zone 2  Power Consumption\": \"z2\",\n",
    "    \"Zone 3  Power Consumption\": \"z3\"\n",
    "}, inplace=True)\n",
    "\n",
    "df.to_csv(\"../data/data-ready.csv\", index=False)"
   ]
  }
 ],
 "metadata": {
  "kernelspec": {
   "name": "python3",
   "language": "python",
   "display_name": "Python 3 (ipykernel)"
  },
  "language_info": {
   "codemirror_mode": {
    "name": "ipython",
    "version": 3
   },
   "file_extension": ".py",
   "mimetype": "text/x-python",
   "name": "python",
   "nbconvert_exporter": "python",
   "pygments_lexer": "ipython3",
   "version": "3.12.2"
  }
 },
 "nbformat": 4,
 "nbformat_minor": 5
}
