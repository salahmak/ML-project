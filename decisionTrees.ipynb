{
 "cells": [
  {
   "cell_type": "code",
   "execution_count": 3,
   "id": "initial_id",
   "metadata": {
    "ExecuteTime": {
     "end_time": "2024-03-24T11:31:20.369544Z",
     "start_time": "2024-03-24T11:31:20.360962Z"
    },
    "collapsed": true
   },
   "outputs": [],
   "source": [
    "import pandas as pd\n",
    "import numpy as np\n",
    "import matplotlib.pyplot as plt\n",
    "import seaborn as sns\n",
    "from sklearn.model_selection import train_test_split\n",
    "from sklearn.model_selection import GridSearchCV\n",
    "\n",
    "from xgboost import XGBRegressor"
   ]
  },
  {
   "cell_type": "code",
   "execution_count": 4,
   "id": "f2d6fe41580440f5",
   "metadata": {
    "ExecuteTime": {
     "end_time": "2024-03-24T11:35:55.526161Z",
     "start_time": "2024-03-24T11:35:55.333264Z"
    },
    "collapsed": false
   },
   "outputs": [],
   "source": [
    "df = pd.read_csv('data/data-ready.csv')\n",
    "\n",
    "targets = [\"z1\", \"z2\", \"z3\"]\n",
    "\n",
    "df.drop(\"DateTime\", inplace=True, axis=1)\n",
    "\n",
    "# split train and test\n",
    "X = df.drop(columns=targets, axis=1)\n",
    "y1 = df['z1']\n",
    "X1_train, X1_test, y1_train, y1_test = train_test_split(X, y1, test_size=0.2, random_state=42)\n",
    "\n",
    "y2 = df['z2']\n",
    "X2_train, X2_test, y2_train, y2_test = train_test_split(X, y2, test_size=0.2, random_state=42)\n",
    "\n",
    "y3 = df['z3']\n",
    "X3_train, X3_test, y3_train, y3_test = train_test_split(X, y3, test_size=0.2, random_state=42)"
   ]
  },
  {
   "cell_type": "code",
   "execution_count": 5,
   "id": "b73dcab8e4fb8879",
   "metadata": {
    "ExecuteTime": {
     "end_time": "2024-03-24T11:36:28.449753Z",
     "start_time": "2024-03-24T11:36:22.866520Z"
    },
    "collapsed": false
   },
   "outputs": [
    {
     "name": "stdout",
     "output_type": "stream",
     "text": [
      "Mean MAE: 835.390 (12.348)\n"
     ]
    }
   ],
   "source": [
    "from sklearn.model_selection import RepeatedKFold, cross_val_score\n",
    "\n",
    "# fit an xgboost model to the data\n",
    "model = XGBRegressor()\n",
    "# define model evaluation method\n",
    "cv = RepeatedKFold(n_splits=10, n_repeats=3, random_state=1)\n",
    "# evaluate model\n",
    "scores = cross_val_score(model, X1_train, y1_train, scoring='neg_mean_absolute_error', cv=cv, n_jobs=-1)\n",
    "\n",
    "# force scores to be positive\n",
    "scores = np.abs(scores)\n",
    "print('Mean MAE: %.3f (%.3f)' % (scores.mean(), scores.std()))"
   ]
  },
  {
   "cell_type": "code",
   "execution_count": 6,
   "id": "7d777b9cfb19d3a1",
   "metadata": {
    "ExecuteTime": {
     "end_time": "2024-03-24T11:29:15.733670Z",
     "start_time": "2024-03-24T11:29:15.640430Z"
    },
    "collapsed": false
   },
   "outputs": [
    {
     "data": {
      "text/html": [
       "<div>\n",
       "<style scoped>\n",
       "    .dataframe tbody tr th:only-of-type {\n",
       "        vertical-align: middle;\n",
       "    }\n",
       "\n",
       "    .dataframe tbody tr th {\n",
       "        vertical-align: top;\n",
       "    }\n",
       "\n",
       "    .dataframe thead th {\n",
       "        text-align: right;\n",
       "    }\n",
       "</style>\n",
       "<table border=\"1\" class=\"dataframe\">\n",
       "  <thead>\n",
       "    <tr style=\"text-align: right;\">\n",
       "      <th></th>\n",
       "      <th>Temperature</th>\n",
       "      <th>Humidity</th>\n",
       "      <th>Wind Speed</th>\n",
       "      <th>general diffuse flows</th>\n",
       "      <th>diffuse flows</th>\n",
       "      <th>Year</th>\n",
       "      <th>Month</th>\n",
       "      <th>Day</th>\n",
       "      <th>Hour</th>\n",
       "      <th>IsWeekend</th>\n",
       "      <th>IsNight</th>\n",
       "      <th>HourCos</th>\n",
       "      <th>HourSin</th>\n",
       "      <th>MonthCos</th>\n",
       "      <th>MonthSin</th>\n",
       "      <th>DayCos</th>\n",
       "      <th>DaySin</th>\n",
       "    </tr>\n",
       "  </thead>\n",
       "  <tbody>\n",
       "    <tr>\n",
       "      <th>count</th>\n",
       "      <td>41932.000000</td>\n",
       "      <td>41932.000000</td>\n",
       "      <td>41932.000000</td>\n",
       "      <td>41932.000000</td>\n",
       "      <td>41932.000000</td>\n",
       "      <td>41932.0</td>\n",
       "      <td>41932.000000</td>\n",
       "      <td>41932.000000</td>\n",
       "      <td>41932.000000</td>\n",
       "      <td>41932.000000</td>\n",
       "      <td>41932.000000</td>\n",
       "      <td>4.193200e+04</td>\n",
       "      <td>4.193200e+04</td>\n",
       "      <td>4.193200e+04</td>\n",
       "      <td>4.193200e+04</td>\n",
       "      <td>41932.000000</td>\n",
       "      <td>4.193200e+04</td>\n",
       "    </tr>\n",
       "    <tr>\n",
       "      <th>mean</th>\n",
       "      <td>18.813952</td>\n",
       "      <td>68.257074</td>\n",
       "      <td>1.957745</td>\n",
       "      <td>183.606466</td>\n",
       "      <td>75.203026</td>\n",
       "      <td>2017.0</td>\n",
       "      <td>6.512496</td>\n",
       "      <td>15.674068</td>\n",
       "      <td>11.493370</td>\n",
       "      <td>0.285725</td>\n",
       "      <td>0.457574</td>\n",
       "      <td>-3.080794e-03</td>\n",
       "      <td>2.352280e-03</td>\n",
       "      <td>-6.059016e-03</td>\n",
       "      <td>-5.154925e-03</td>\n",
       "      <td>-0.021557</td>\n",
       "      <td>1.627529e-03</td>\n",
       "    </tr>\n",
       "    <tr>\n",
       "      <th>std</th>\n",
       "      <td>5.794997</td>\n",
       "      <td>15.522747</td>\n",
       "      <td>2.348395</td>\n",
       "      <td>264.690512</td>\n",
       "      <td>124.193888</td>\n",
       "      <td>0.0</td>\n",
       "      <td>3.438807</td>\n",
       "      <td>8.776602</td>\n",
       "      <td>6.907445</td>\n",
       "      <td>0.451764</td>\n",
       "      <td>0.498203</td>\n",
       "      <td>7.070757e-01</td>\n",
       "      <td>7.071441e-01</td>\n",
       "      <td>7.078056e-01</td>\n",
       "      <td>7.063793e-01</td>\n",
       "      <td>0.699937</td>\n",
       "      <td>7.138938e-01</td>\n",
       "    </tr>\n",
       "    <tr>\n",
       "      <th>min</th>\n",
       "      <td>3.247000</td>\n",
       "      <td>11.340000</td>\n",
       "      <td>0.050000</td>\n",
       "      <td>0.004000</td>\n",
       "      <td>0.011000</td>\n",
       "      <td>2017.0</td>\n",
       "      <td>1.000000</td>\n",
       "      <td>1.000000</td>\n",
       "      <td>0.000000</td>\n",
       "      <td>0.000000</td>\n",
       "      <td>0.000000</td>\n",
       "      <td>-1.000000e+00</td>\n",
       "      <td>-1.000000e+00</td>\n",
       "      <td>-1.000000e+00</td>\n",
       "      <td>-1.000000e+00</td>\n",
       "      <td>-0.994869</td>\n",
       "      <td>-9.987165e-01</td>\n",
       "    </tr>\n",
       "    <tr>\n",
       "      <th>25%</th>\n",
       "      <td>14.430000</td>\n",
       "      <td>58.290000</td>\n",
       "      <td>0.078000</td>\n",
       "      <td>0.062000</td>\n",
       "      <td>0.122000</td>\n",
       "      <td>2017.0</td>\n",
       "      <td>4.000000</td>\n",
       "      <td>8.000000</td>\n",
       "      <td>6.000000</td>\n",
       "      <td>0.000000</td>\n",
       "      <td>0.000000</td>\n",
       "      <td>-7.071068e-01</td>\n",
       "      <td>-7.071068e-01</td>\n",
       "      <td>-8.660254e-01</td>\n",
       "      <td>-8.660254e-01</td>\n",
       "      <td>-0.758758</td>\n",
       "      <td>-7.247928e-01</td>\n",
       "    </tr>\n",
       "    <tr>\n",
       "      <th>50%</th>\n",
       "      <td>18.810000</td>\n",
       "      <td>69.850000</td>\n",
       "      <td>0.086000</td>\n",
       "      <td>5.762000</td>\n",
       "      <td>5.064500</td>\n",
       "      <td>2017.0</td>\n",
       "      <td>7.000000</td>\n",
       "      <td>16.000000</td>\n",
       "      <td>11.000000</td>\n",
       "      <td>0.000000</td>\n",
       "      <td>0.000000</td>\n",
       "      <td>-1.836970e-16</td>\n",
       "      <td>1.224647e-16</td>\n",
       "      <td>-1.836970e-16</td>\n",
       "      <td>-2.449294e-16</td>\n",
       "      <td>-0.050649</td>\n",
       "      <td>-2.449294e-16</td>\n",
       "    </tr>\n",
       "    <tr>\n",
       "      <th>75%</th>\n",
       "      <td>22.880000</td>\n",
       "      <td>81.400000</td>\n",
       "      <td>4.915000</td>\n",
       "      <td>323.000000</td>\n",
       "      <td>101.300000</td>\n",
       "      <td>2017.0</td>\n",
       "      <td>10.000000</td>\n",
       "      <td>23.000000</td>\n",
       "      <td>17.000000</td>\n",
       "      <td>1.000000</td>\n",
       "      <td>1.000000</td>\n",
       "      <td>7.071068e-01</td>\n",
       "      <td>7.071068e-01</td>\n",
       "      <td>5.000000e-01</td>\n",
       "      <td>5.000000e-01</td>\n",
       "      <td>0.688967</td>\n",
       "      <td>7.247928e-01</td>\n",
       "    </tr>\n",
       "    <tr>\n",
       "      <th>max</th>\n",
       "      <td>39.780000</td>\n",
       "      <td>94.800000</td>\n",
       "      <td>6.483000</td>\n",
       "      <td>1163.000000</td>\n",
       "      <td>936.000000</td>\n",
       "      <td>2017.0</td>\n",
       "      <td>12.000000</td>\n",
       "      <td>31.000000</td>\n",
       "      <td>23.000000</td>\n",
       "      <td>1.000000</td>\n",
       "      <td>1.000000</td>\n",
       "      <td>1.000000e+00</td>\n",
       "      <td>1.000000e+00</td>\n",
       "      <td>1.000000e+00</td>\n",
       "      <td>1.000000e+00</td>\n",
       "      <td>1.000000</td>\n",
       "      <td>9.987165e-01</td>\n",
       "    </tr>\n",
       "  </tbody>\n",
       "</table>\n",
       "</div>"
      ],
      "text/plain": [
       "        Temperature      Humidity    Wind Speed  general diffuse flows  \\\n",
       "count  41932.000000  41932.000000  41932.000000           41932.000000   \n",
       "mean      18.813952     68.257074      1.957745             183.606466   \n",
       "std        5.794997     15.522747      2.348395             264.690512   \n",
       "min        3.247000     11.340000      0.050000               0.004000   \n",
       "25%       14.430000     58.290000      0.078000               0.062000   \n",
       "50%       18.810000     69.850000      0.086000               5.762000   \n",
       "75%       22.880000     81.400000      4.915000             323.000000   \n",
       "max       39.780000     94.800000      6.483000            1163.000000   \n",
       "\n",
       "       diffuse flows     Year         Month           Day          Hour  \\\n",
       "count   41932.000000  41932.0  41932.000000  41932.000000  41932.000000   \n",
       "mean       75.203026   2017.0      6.512496     15.674068     11.493370   \n",
       "std       124.193888      0.0      3.438807      8.776602      6.907445   \n",
       "min         0.011000   2017.0      1.000000      1.000000      0.000000   \n",
       "25%         0.122000   2017.0      4.000000      8.000000      6.000000   \n",
       "50%         5.064500   2017.0      7.000000     16.000000     11.000000   \n",
       "75%       101.300000   2017.0     10.000000     23.000000     17.000000   \n",
       "max       936.000000   2017.0     12.000000     31.000000     23.000000   \n",
       "\n",
       "          IsWeekend       IsNight       HourCos       HourSin      MonthCos  \\\n",
       "count  41932.000000  41932.000000  4.193200e+04  4.193200e+04  4.193200e+04   \n",
       "mean       0.285725      0.457574 -3.080794e-03  2.352280e-03 -6.059016e-03   \n",
       "std        0.451764      0.498203  7.070757e-01  7.071441e-01  7.078056e-01   \n",
       "min        0.000000      0.000000 -1.000000e+00 -1.000000e+00 -1.000000e+00   \n",
       "25%        0.000000      0.000000 -7.071068e-01 -7.071068e-01 -8.660254e-01   \n",
       "50%        0.000000      0.000000 -1.836970e-16  1.224647e-16 -1.836970e-16   \n",
       "75%        1.000000      1.000000  7.071068e-01  7.071068e-01  5.000000e-01   \n",
       "max        1.000000      1.000000  1.000000e+00  1.000000e+00  1.000000e+00   \n",
       "\n",
       "           MonthSin        DayCos        DaySin  \n",
       "count  4.193200e+04  41932.000000  4.193200e+04  \n",
       "mean  -5.154925e-03     -0.021557  1.627529e-03  \n",
       "std    7.063793e-01      0.699937  7.138938e-01  \n",
       "min   -1.000000e+00     -0.994869 -9.987165e-01  \n",
       "25%   -8.660254e-01     -0.758758 -7.247928e-01  \n",
       "50%   -2.449294e-16     -0.050649 -2.449294e-16  \n",
       "75%    5.000000e-01      0.688967  7.247928e-01  \n",
       "max    1.000000e+00      1.000000  9.987165e-01  "
      ]
     },
     "execution_count": 6,
     "metadata": {},
     "output_type": "execute_result"
    }
   ],
   "source": [
    "X1_train.describe()"
   ]
  },
  {
   "cell_type": "markdown",
   "id": "54498069",
   "metadata": {},
   "source": [
    "### Testing Decision Trees"
   ]
  },
  {
   "cell_type": "code",
   "execution_count": 7,
   "id": "b1acaa9a",
   "metadata": {},
   "outputs": [],
   "source": [
    "X_train = [X1_train, X2_train, X3_train]\n",
    "X_test = [X1_test, X2_test, X3_test]\n",
    "y_train = [y1_train, y2_train, y3_train]\n",
    "y_test = [y1_test, y2_test, y3_test]"
   ]
  },
  {
   "cell_type": "code",
   "execution_count": 8,
   "id": "79a9acdb",
   "metadata": {},
   "outputs": [],
   "source": [
    "from sklearn.tree import DecisionTreeRegressor\n",
    "from sklearn.metrics import r2_score"
   ]
  },
  {
   "cell_type": "code",
   "execution_count": 9,
   "id": "8a98ce8f",
   "metadata": {},
   "outputs": [
    {
     "name": "stdout",
     "output_type": "stream",
     "text": [
      "------ zone 0: r2 score: 0.9662874671628542\n",
      "------ zone 1: r2 score: 0.9713828947307376\n",
      "------ zone 2: r2 score: 0.9858790991472575\n"
     ]
    }
   ],
   "source": [
    "models = []\n",
    "predictions = []\n",
    "for i in range(3):\n",
    "    model = DecisionTreeRegressor()\n",
    "    model.fit(X_train[i], y_train[i])\n",
    "\n",
    "    prediction = model.predict(X_test[i])\n",
    "    score = r2_score(y_test[i], prediction)\n",
    "\n",
    "    print(f\"------ zone {i}: r2 score: {score}\")\n",
    "\n",
    "    models.append(model)\n",
    "    predictions.append(prediction)\n",
    "\n"
   ]
  },
  {
   "cell_type": "code",
   "execution_count": 10,
   "id": "574c633e",
   "metadata": {},
   "outputs": [
    {
     "name": "stdout",
     "output_type": "stream",
     "text": [
      "------ total: r2 score: 0.974651392726841\n"
     ]
    }
   ],
   "source": [
    "df[\"total\"] = df[\"z1\"] + df[\"z2\"] + df[\"z3\"]\n",
    "\n",
    "targetT = df[\"total\"]\n",
    "XT = df.drop(columns=[\"z1\", \"z2\", \"z3\", \"total\"], axis=1)\n",
    "\n",
    "\n",
    "XT_train, XT_test, yT_train, yT_test = train_test_split(XT, targetT, test_size=0.2, random_state=42)\n",
    "\n",
    "model = DecisionTreeRegressor()\n",
    "model.fit(XT_train, yT_train)\n",
    "\n",
    "prediction = model.predict(XT_test)\n",
    "score = r2_score(yT_test, prediction)\n",
    "\n",
    "print(f\"------ total: r2 score: {score}\")"
   ]
  },
  {
   "cell_type": "markdown",
   "id": "35724c23",
   "metadata": {},
   "source": [
    "### Testing Random Forests"
   ]
  },
  {
   "cell_type": "code",
   "execution_count": 11,
   "id": "c9580e50",
   "metadata": {},
   "outputs": [],
   "source": [
    "from sklearn.ensemble import RandomForestRegressor"
   ]
  },
  {
   "cell_type": "code",
   "execution_count": 12,
   "id": "6066eb1a",
   "metadata": {},
   "outputs": [
    {
     "name": "stdout",
     "output_type": "stream",
     "text": [
      "------ zone 0: r2 score: 0.98298048315401\n",
      "------ zone 1: r2 score: 0.9851269727525681\n",
      "------ zone 2: r2 score: 0.9925045274490086\n"
     ]
    }
   ],
   "source": [
    "models_rf = []\n",
    "predictions_rf = []\n",
    "for i in range(3):\n",
    "    model = RandomForestRegressor()\n",
    "    model.fit(X_train[i], y_train[i])\n",
    "\n",
    "    prediction = model.predict(X_test[i])\n",
    "    score = r2_score(y_test[i], prediction)\n",
    "\n",
    "    print(f\"------ zone {i}: r2 score: {score}\")\n",
    "\n",
    "    models_rf.append(model)\n",
    "    predictions_rf.append(prediction)"
   ]
  },
  {
   "cell_type": "code",
   "execution_count": 14,
   "id": "3adc98b1",
   "metadata": {},
   "outputs": [
    {
     "name": "stdout",
     "output_type": "stream",
     "text": [
      "------ total: r2 score: 0.9869350129047934\n"
     ]
    }
   ],
   "source": [
    "model_rf = RandomForestRegressor()\n",
    "model_rf.fit(XT_train, yT_train)\n",
    "\n",
    "prediction_rf = model_rf.predict(XT_test)\n",
    "score = r2_score(yT_test, prediction_rf)\n",
    "\n",
    "print(f\"------ total: r2 score: {score}\")"
   ]
  },
  {
   "cell_type": "markdown",
   "id": "0ed563e4",
   "metadata": {},
   "source": [
    "# Next:\n",
    "- cross validation\n",
    "- more optimization of models + more fine tuning\n",
    "- group by minute, hour, day"
   ]
  },
  {
   "cell_type": "markdown",
   "id": "0fb8bc0f",
   "metadata": {},
   "source": []
  }
 ],
 "metadata": {
  "kernelspec": {
   "display_name": "Python 3",
   "language": "python",
   "name": "python3"
  },
  "language_info": {
   "codemirror_mode": {
    "name": "ipython",
    "version": 3
   },
   "file_extension": ".py",
   "mimetype": "text/x-python",
   "name": "python",
   "nbconvert_exporter": "python",
   "pygments_lexer": "ipython3",
   "version": "3.11.5"
  }
 },
 "nbformat": 4,
 "nbformat_minor": 5
}
