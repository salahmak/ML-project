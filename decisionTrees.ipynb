{
 "cells": [
  {
   "cell_type": "code",
   "execution_count": 14,
   "id": "initial_id",
   "metadata": {
    "collapsed": true,
    "ExecuteTime": {
     "end_time": "2024-03-24T11:31:20.369544Z",
     "start_time": "2024-03-24T11:31:20.360962Z"
    }
   },
   "outputs": [],
   "source": [
    "import pandas as pd\n",
    "import numpy as np\n",
    "import matplotlib.pyplot as plt\n",
    "import seaborn as sns\n",
    "from sklearn.model_selection import train_test_split\n",
    "from sklearn.model_selection import GridSearchCV\n",
    "\n",
    "from xgboost import XGBRegressor"
   ]
  },
  {
   "cell_type": "code",
   "outputs": [],
   "source": [
    "df = pd.read_csv('data/data-ready.csv')\n",
    "\n",
    "targets = [\"z1\", \"z2\", \"z3\"]\n",
    "\n",
    "df.drop(\"DateTime\", inplace=True, axis=1)\n",
    "\n",
    "# split train and test\n",
    "X = df.drop(columns=targets, axis=1)\n",
    "y1 = df['z1']\n",
    "X1_train, X1_test, y1_train, y1_test = train_test_split(X, y1, test_size=0.2, random_state=42)\n",
    "\n",
    "y2 = df['z2']\n",
    "X2_train, X2_test, y2_train, y2_test = train_test_split(X, y2, test_size=0.2, random_state=42)\n",
    "\n",
    "y3 = df['z3']\n",
    "X3_train, X3_test, y3_train, y3_test = train_test_split(X, y3, test_size=0.2, random_state=42)"
   ],
   "metadata": {
    "collapsed": false,
    "ExecuteTime": {
     "end_time": "2024-03-24T11:35:55.526161Z",
     "start_time": "2024-03-24T11:35:55.333264Z"
    }
   },
   "id": "f2d6fe41580440f5",
   "execution_count": 17
  },
  {
   "cell_type": "code",
   "outputs": [
    {
     "name": "stdout",
     "output_type": "stream",
     "text": [
      "Mean MAE: 813.266 (12.516)\n"
     ]
    }
   ],
   "source": [
    "from sklearn.model_selection import RepeatedKFold, cross_val_score\n",
    "\n",
    "# fit an xgboost model to the data\n",
    "model = XGBRegressor()\n",
    "# define model evaluation method\n",
    "cv = RepeatedKFold(n_splits=10, n_repeats=3, random_state=1)\n",
    "# evaluate model\n",
    "scores = cross_val_score(model, X1_train, y1_train, scoring='neg_mean_absolute_error', cv=cv, n_jobs=-1)\n",
    "\n",
    "# force scores to be positive\n",
    "scores = np.abs(scores)\n",
    "print('Mean MAE: %.3f (%.3f)' % (scores.mean(), scores.std()))"
   ],
   "metadata": {
    "collapsed": false,
    "ExecuteTime": {
     "end_time": "2024-03-24T11:36:28.449753Z",
     "start_time": "2024-03-24T11:36:22.866520Z"
    }
   },
   "id": "b73dcab8e4fb8879",
   "execution_count": 19
  },
  {
   "cell_type": "code",
   "outputs": [
    {
     "data": {
      "text/plain": "        Temperature      Humidity    Wind Speed  general diffuse flows  \\\ncount  4.193200e+04  4.193200e+04  4.193200e+04           4.193200e+04   \nmean  -2.033414e-18 -1.499643e-17  1.580132e-17           3.948213e-17   \nstd    1.000012e+00  1.000012e+00  1.000012e+00           1.000012e+00   \nmin   -2.686307e+00 -3.666732e+00 -8.123709e-01          -6.936579e-01   \n25%   -7.565154e-01 -6.421023e-01 -8.004477e-01          -6.934387e-01   \n50%   -6.820076e-04  1.026201e-01 -7.970411e-01          -6.719039e-01   \n75%    7.016564e-01  8.466983e-01  1.259282e+00           5.266347e-01   \nmax    3.618000e+00  1.709958e+00  1.926980e+00           3.700190e+00   \n\n       diffuse flows     Year         Month           Day          Hour  \\\ncount   4.193200e+04  41932.0  4.193200e+04  4.193200e+04  4.193200e+04   \nmean    3.329716e-17      0.0 -2.541768e-17 -2.812890e-17  3.524585e-17   \nstd     1.000012e+00      0.0  1.000012e+00  1.000012e+00  1.000012e+00   \nmin    -6.054479e-01      0.0 -1.603045e+00 -1.671973e+00 -1.663930e+00   \n25%    -6.045541e-01      0.0 -7.306391e-01 -8.743884e-01 -7.952920e-01   \n50%    -5.647570e-01      0.0  1.417670e-01  3.713696e-02 -7.142672e-02   \n75%     2.101334e-01      0.0  1.014173e+00  8.347216e-01  7.972116e-01   \nmax     6.931156e+00      0.0  1.595777e+00  1.746247e+00  1.665850e+00   \n\n          IsWeekend       IsNight       HourCos       HourSin      MonthCos  \\\ncount  4.193200e+04  4.193200e+04  4.193200e+04  4.193200e+04  4.193200e+04   \nmean   5.185206e-17  7.210148e-17 -2.270646e-17 -2.101195e-17  1.880908e-17   \nstd    1.000012e+00  1.000012e+00  1.000012e+00  1.000012e+00  1.000012e+00   \nmin   -6.324714e-01 -9.184607e-01 -1.409936e+00 -1.417482e+00 -1.404274e+00   \n25%   -6.324714e-01 -9.184607e-01 -9.956988e-01 -1.003286e+00 -1.214990e+00   \n50%   -6.324714e-01 -9.184607e-01  4.357145e-03 -3.326490e-03  8.560384e-03   \n75%    1.581099e+00  1.088778e+00  1.004413e+00  9.966326e-01  7.149774e-01   \nmax    1.581099e+00  1.088778e+00  1.418650e+00  1.410829e+00  1.421395e+00   \n\n           MonthSin        DayCos        DaySin  \ncount  4.193200e+04  4.193200e+04  4.193200e+04  \nmean   2.041887e-17  2.143558e-17  2.024942e-17  \nstd    1.000012e+00  1.000012e+00  1.000012e+00  \nmin   -1.408389e+00 -1.390588e+00 -1.401267e+00  \n25%   -1.218723e+00 -1.053252e+00 -1.017559e+00  \n50%    7.297759e-03 -4.156480e-02 -2.279819e-03  \n75%    7.151412e-01  1.015137e+00  1.012999e+00  \nmax    1.422985e+00  1.459515e+00  1.396708e+00  ",
      "text/html": "<div>\n<style scoped>\n    .dataframe tbody tr th:only-of-type {\n        vertical-align: middle;\n    }\n\n    .dataframe tbody tr th {\n        vertical-align: top;\n    }\n\n    .dataframe thead th {\n        text-align: right;\n    }\n</style>\n<table border=\"1\" class=\"dataframe\">\n  <thead>\n    <tr style=\"text-align: right;\">\n      <th></th>\n      <th>Temperature</th>\n      <th>Humidity</th>\n      <th>Wind Speed</th>\n      <th>general diffuse flows</th>\n      <th>diffuse flows</th>\n      <th>Year</th>\n      <th>Month</th>\n      <th>Day</th>\n      <th>Hour</th>\n      <th>IsWeekend</th>\n      <th>IsNight</th>\n      <th>HourCos</th>\n      <th>HourSin</th>\n      <th>MonthCos</th>\n      <th>MonthSin</th>\n      <th>DayCos</th>\n      <th>DaySin</th>\n    </tr>\n  </thead>\n  <tbody>\n    <tr>\n      <th>count</th>\n      <td>4.193200e+04</td>\n      <td>4.193200e+04</td>\n      <td>4.193200e+04</td>\n      <td>4.193200e+04</td>\n      <td>4.193200e+04</td>\n      <td>41932.0</td>\n      <td>4.193200e+04</td>\n      <td>4.193200e+04</td>\n      <td>4.193200e+04</td>\n      <td>4.193200e+04</td>\n      <td>4.193200e+04</td>\n      <td>4.193200e+04</td>\n      <td>4.193200e+04</td>\n      <td>4.193200e+04</td>\n      <td>4.193200e+04</td>\n      <td>4.193200e+04</td>\n      <td>4.193200e+04</td>\n    </tr>\n    <tr>\n      <th>mean</th>\n      <td>-2.033414e-18</td>\n      <td>-1.499643e-17</td>\n      <td>1.580132e-17</td>\n      <td>3.948213e-17</td>\n      <td>3.329716e-17</td>\n      <td>0.0</td>\n      <td>-2.541768e-17</td>\n      <td>-2.812890e-17</td>\n      <td>3.524585e-17</td>\n      <td>5.185206e-17</td>\n      <td>7.210148e-17</td>\n      <td>-2.270646e-17</td>\n      <td>-2.101195e-17</td>\n      <td>1.880908e-17</td>\n      <td>2.041887e-17</td>\n      <td>2.143558e-17</td>\n      <td>2.024942e-17</td>\n    </tr>\n    <tr>\n      <th>std</th>\n      <td>1.000012e+00</td>\n      <td>1.000012e+00</td>\n      <td>1.000012e+00</td>\n      <td>1.000012e+00</td>\n      <td>1.000012e+00</td>\n      <td>0.0</td>\n      <td>1.000012e+00</td>\n      <td>1.000012e+00</td>\n      <td>1.000012e+00</td>\n      <td>1.000012e+00</td>\n      <td>1.000012e+00</td>\n      <td>1.000012e+00</td>\n      <td>1.000012e+00</td>\n      <td>1.000012e+00</td>\n      <td>1.000012e+00</td>\n      <td>1.000012e+00</td>\n      <td>1.000012e+00</td>\n    </tr>\n    <tr>\n      <th>min</th>\n      <td>-2.686307e+00</td>\n      <td>-3.666732e+00</td>\n      <td>-8.123709e-01</td>\n      <td>-6.936579e-01</td>\n      <td>-6.054479e-01</td>\n      <td>0.0</td>\n      <td>-1.603045e+00</td>\n      <td>-1.671973e+00</td>\n      <td>-1.663930e+00</td>\n      <td>-6.324714e-01</td>\n      <td>-9.184607e-01</td>\n      <td>-1.409936e+00</td>\n      <td>-1.417482e+00</td>\n      <td>-1.404274e+00</td>\n      <td>-1.408389e+00</td>\n      <td>-1.390588e+00</td>\n      <td>-1.401267e+00</td>\n    </tr>\n    <tr>\n      <th>25%</th>\n      <td>-7.565154e-01</td>\n      <td>-6.421023e-01</td>\n      <td>-8.004477e-01</td>\n      <td>-6.934387e-01</td>\n      <td>-6.045541e-01</td>\n      <td>0.0</td>\n      <td>-7.306391e-01</td>\n      <td>-8.743884e-01</td>\n      <td>-7.952920e-01</td>\n      <td>-6.324714e-01</td>\n      <td>-9.184607e-01</td>\n      <td>-9.956988e-01</td>\n      <td>-1.003286e+00</td>\n      <td>-1.214990e+00</td>\n      <td>-1.218723e+00</td>\n      <td>-1.053252e+00</td>\n      <td>-1.017559e+00</td>\n    </tr>\n    <tr>\n      <th>50%</th>\n      <td>-6.820076e-04</td>\n      <td>1.026201e-01</td>\n      <td>-7.970411e-01</td>\n      <td>-6.719039e-01</td>\n      <td>-5.647570e-01</td>\n      <td>0.0</td>\n      <td>1.417670e-01</td>\n      <td>3.713696e-02</td>\n      <td>-7.142672e-02</td>\n      <td>-6.324714e-01</td>\n      <td>-9.184607e-01</td>\n      <td>4.357145e-03</td>\n      <td>-3.326490e-03</td>\n      <td>8.560384e-03</td>\n      <td>7.297759e-03</td>\n      <td>-4.156480e-02</td>\n      <td>-2.279819e-03</td>\n    </tr>\n    <tr>\n      <th>75%</th>\n      <td>7.016564e-01</td>\n      <td>8.466983e-01</td>\n      <td>1.259282e+00</td>\n      <td>5.266347e-01</td>\n      <td>2.101334e-01</td>\n      <td>0.0</td>\n      <td>1.014173e+00</td>\n      <td>8.347216e-01</td>\n      <td>7.972116e-01</td>\n      <td>1.581099e+00</td>\n      <td>1.088778e+00</td>\n      <td>1.004413e+00</td>\n      <td>9.966326e-01</td>\n      <td>7.149774e-01</td>\n      <td>7.151412e-01</td>\n      <td>1.015137e+00</td>\n      <td>1.012999e+00</td>\n    </tr>\n    <tr>\n      <th>max</th>\n      <td>3.618000e+00</td>\n      <td>1.709958e+00</td>\n      <td>1.926980e+00</td>\n      <td>3.700190e+00</td>\n      <td>6.931156e+00</td>\n      <td>0.0</td>\n      <td>1.595777e+00</td>\n      <td>1.746247e+00</td>\n      <td>1.665850e+00</td>\n      <td>1.581099e+00</td>\n      <td>1.088778e+00</td>\n      <td>1.418650e+00</td>\n      <td>1.410829e+00</td>\n      <td>1.421395e+00</td>\n      <td>1.422985e+00</td>\n      <td>1.459515e+00</td>\n      <td>1.396708e+00</td>\n    </tr>\n  </tbody>\n</table>\n</div>"
     },
     "execution_count": 10,
     "metadata": {},
     "output_type": "execute_result"
    }
   ],
   "source": [
    "X1_train.describe()"
   ],
   "metadata": {
    "collapsed": false,
    "ExecuteTime": {
     "end_time": "2024-03-24T11:29:15.733670Z",
     "start_time": "2024-03-24T11:29:15.640430Z"
    }
   },
   "id": "7d777b9cfb19d3a1",
   "execution_count": 10
  }
 ],
 "metadata": {
  "kernelspec": {
   "display_name": "Python 3",
   "language": "python",
   "name": "python3"
  },
  "language_info": {
   "codemirror_mode": {
    "name": "ipython",
    "version": 2
   },
   "file_extension": ".py",
   "mimetype": "text/x-python",
   "name": "python",
   "nbconvert_exporter": "python",
   "pygments_lexer": "ipython2",
   "version": "2.7.6"
  }
 },
 "nbformat": 4,
 "nbformat_minor": 5
}
